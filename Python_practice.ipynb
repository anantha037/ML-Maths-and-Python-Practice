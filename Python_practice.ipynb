{
 "cells": [
  {
   "cell_type": "code",
   "execution_count": 279,
   "id": "6c2159fb-1cd6-46d2-a112-3cd6163921aa",
   "metadata": {},
   "outputs": [
    {
     "name": "stdin",
     "output_type": "stream",
     "text": [
      "Enter the size of the arrays:  3\n"
     ]
    },
    {
     "name": "stdout",
     "output_type": "stream",
     "text": [
      "Enter the values of array 1\n"
     ]
    },
    {
     "name": "stdin",
     "output_type": "stream",
     "text": [
      " 1\n",
      " 2\n",
      " 3\n",
      " 4\n",
      " 5\n",
      " 6\n",
      " 7\n",
      " 8\n",
      " 9\n"
     ]
    },
    {
     "name": "stdout",
     "output_type": "stream",
     "text": [
      "Enter the values of array 2\n"
     ]
    },
    {
     "name": "stdin",
     "output_type": "stream",
     "text": [
      " 10\n",
      " 20\n",
      " 30\n",
      " 40\n",
      " 50\n",
      " 60\n",
      " 70\n",
      " 80\n",
      " 90\n"
     ]
    },
    {
     "name": "stdout",
     "output_type": "stream",
     "text": [
      "11 22 33 \n",
      "44 55 66 \n",
      "77 88 99 \n"
     ]
    }
   ],
   "source": [
    "size = int(input(\"Enter the size of the arrays: \"))\n",
    "\n",
    "arr1=[]\n",
    "arr2=[]\n",
    "\n",
    "print(\"Enter the values of array 1\")\n",
    "\n",
    "for i in range(size):\n",
    "    row=[]\n",
    "    for j in range(size):\n",
    "        val=int(input())\n",
    "        row.append(val)\n",
    "    arr1.append(row)\n",
    "\n",
    "\n",
    "print(\"Enter the values of array 2\")\n",
    "\n",
    "for i in range(size):\n",
    "    row=[]\n",
    "    for j in range(size):\n",
    "        val=int(input())\n",
    "        row.append(val)\n",
    "    arr2.append(row)\n",
    "\n",
    "\n",
    "arr_sum = []\n",
    "\n",
    "for i in range(size):\n",
    "    row=[]\n",
    "    for j in range(size):\n",
    "        val = arr1[i][j] + arr2[i][j]\n",
    "        row.append(val)\n",
    "    arr_sum.append(row)\n",
    "\n",
    "\n",
    "for i in range(size):\n",
    "    for j in range(size):\n",
    "        print(arr_sum[i][j], end=\" \")\n",
    "    print()\n"
   ]
  },
  {
   "cell_type": "code",
   "execution_count": 403,
   "id": "e28dedde-fb9c-457f-a4bf-21869d6e219f",
   "metadata": {},
   "outputs": [
    {
     "name": "stdin",
     "output_type": "stream",
     "text": [
      "Enter the marks scored for written test 40\n",
      "Enter the marks scored for lab exams 20\n",
      "Enter the marks scored for assignments 12\n"
     ]
    },
    {
     "name": "stdout",
     "output_type": "stream",
     "text": [
      "Grade of the student is 33.2\n"
     ]
    }
   ],
   "source": [
    "def overall_grade(written,lab,assignments):\n",
    "    \n",
    "    total_grade = (written*70/100)+(lab*20/100)+(assignments*10/100)\n",
    "    return total_grade\n",
    "\n",
    "written_test = float(input(\"Enter the marks scored for written test\"))\n",
    "lab_exam = float(input(\"Enter the marks scored for lab exams\"))\n",
    "assignments = float(input(\"Enter the marks scored for assignments\"))\n",
    "\n",
    "grade = overall_grade(written_test,lab_exam, assignments)\n",
    "\n",
    "print(f\"Grade of the student is {grade}\")"
   ]
  },
  {
   "cell_type": "code",
   "execution_count": 5,
   "id": "a19962ad-e3c4-467c-83fe-12aee0c04601",
   "metadata": {},
   "outputs": [
    {
     "name": "stdout",
     "output_type": "stream",
     "text": [
      "User defined funciton: 7\n",
      "Lambda function: 28\n"
     ]
    }
   ],
   "source": [
    "def user_defined(a, b):\n",
    "    sum = a+b\n",
    "    return sum\n",
    "\n",
    "x = lambda a,b : a+b\n",
    "\n",
    "print(\"User defined funciton:\",user_defined(4,3))\n",
    "\n",
    "print(\"Lambda function:\",x(20,8))\n"
   ]
  },
  {
   "cell_type": "code",
   "execution_count": 43,
   "id": "27fc3519-17a5-43ac-b0dd-eef73a1edc1d",
   "metadata": {},
   "outputs": [
    {
     "name": "stdout",
     "output_type": "stream",
     "text": [
      "hi world\n",
      "OOPS wrong type\n",
      "Execution Completed!\n",
      "Hello world\n"
     ]
    }
   ],
   "source": [
    "print(\"hi world\")\n",
    "n = \"\"\n",
    "\n",
    "try:\n",
    "    res = n/1\n",
    "except ZeroDivisionError:\n",
    "    print(\"Cant divide by Zero FOOL!!\")\n",
    "except TypeError:\n",
    "    print(\"OOPS wrong type\")\n",
    "else:\n",
    "    print(res)\n",
    "finally:\n",
    "    print(\"Execution Completed!\")\n",
    "\n",
    "\n",
    "print(\"Hello world\")"
   ]
  },
  {
   "cell_type": "code",
   "execution_count": 73,
   "id": "06906db3-2806-4a21-a28f-65bd731b73a2",
   "metadata": {},
   "outputs": [
    {
     "name": "stdin",
     "output_type": "stream",
     "text": [
      "Enter the size of the array: 5\n"
     ]
    },
    {
     "name": "stdout",
     "output_type": "stream",
     "text": [
      "Enter the elements of the array:\n"
     ]
    },
    {
     "name": "stdin",
     "output_type": "stream",
     "text": [
      " 32\n",
      " 54\n",
      " 2\n",
      " 54\n",
      " 8\n"
     ]
    },
    {
     "name": "stdout",
     "output_type": "stream",
     "text": [
      "32 54 2 54 8 "
     ]
    }
   ],
   "source": [
    "def getArray():\n",
    "    n = int(input(\"Enter the size of the array:\"))\n",
    "    arr = []\n",
    "    print(\"Enter the elements of the array:\")\n",
    "    \n",
    "    for i in range(n):\n",
    "        val=int(input())\n",
    "        arr.append(val)\n",
    "\n",
    "    return arr,n\n",
    "\n",
    "def displayArray(arr,n):\n",
    "    for i in range(n):\n",
    "        print(arr[i],end=\" \")\n",
    "\n",
    "def main():\n",
    "    result,size = getArray()\n",
    "    displayArray(result,size)\n",
    "\n",
    "if __name__ == \"__main__\":\n",
    "    main()"
   ]
  },
  {
   "cell_type": "code",
   "execution_count": 45,
   "id": "3b27a88e-580e-4629-8f26-552eab6a471e",
   "metadata": {},
   "outputs": [
    {
     "name": "stdout",
     "output_type": "stream",
     "text": [
      "Hello World\n"
     ]
    }
   ],
   "source": [
    "def decorator_func(func):\n",
    "    def wrapper():\n",
    "        print(\"Hello World\")\n",
    "        func\n",
    "    return wrapper\n",
    "\n",
    "@decorator_func\n",
    "def greet():\n",
    "    pass\n",
    "\n",
    "greet()"
   ]
  },
  {
   "cell_type": "code",
   "execution_count": 16,
   "id": "4dfddb73-559c-4acf-b03f-1ffa17361be0",
   "metadata": {},
   "outputs": [
    {
     "name": "stdout",
     "output_type": "stream",
     "text": [
      "Enter your choice: \n",
      "1.Addition \n",
      "2.Substraction \n",
      "3.Multiplication \n",
      "4.Substraction \n",
      "5.Exit\n"
     ]
    },
    {
     "name": "stdin",
     "output_type": "stream",
     "text": [
      " 3\n",
      "Enter the first value 3\n",
      "Enter the second value 4\n"
     ]
    },
    {
     "name": "stdout",
     "output_type": "stream",
     "text": [
      "Result : 12\n",
      "Enter your choice: \n",
      "1.Addition \n",
      "2.Substraction \n",
      "3.Multiplication \n",
      "4.Substraction \n",
      "5.Exit\n"
     ]
    },
    {
     "name": "stdin",
     "output_type": "stream",
     "text": [
      " 7\n"
     ]
    },
    {
     "name": "stdout",
     "output_type": "stream",
     "text": [
      "Invalid Choice!!\n",
      "Enter your choice: \n",
      "1.Addition \n",
      "2.Substraction \n",
      "3.Multiplication \n",
      "4.Substraction \n",
      "5.Exit\n"
     ]
    },
    {
     "name": "stdin",
     "output_type": "stream",
     "text": [
      " 5\n"
     ]
    },
    {
     "name": "stdout",
     "output_type": "stream",
     "text": [
      "Program Executed\n"
     ]
    }
   ],
   "source": [
    "class Calculator:\n",
    "    def add(self,a,b):\n",
    "        return a+b\n",
    "    def sub(self,a,b):\n",
    "        return a-b\n",
    "    def multi(self,a,b):\n",
    "        return a*b\n",
    "    def div(self,a,b):\n",
    "        return a/b\n",
    "\n",
    "    def getNum(self):\n",
    "        a = int(input(\"Enter the first value\"))\n",
    "        b = int(input(\"Enter the second value\"))\n",
    "        return a,b\n",
    "def main():\n",
    "    while(True):\n",
    "        print(\"Enter your choice: \\n1.Addition \\n2.Substraction \\n3.Multiplication \\n4.Substraction \\n5.Exit\")\n",
    "        choice = int(input())\n",
    "        obj = Calculator()\n",
    "        if choice==1:\n",
    "            num1,num2 = obj.getNum()\n",
    "            result = obj.add(num1,num2)\n",
    "            print(\"Result :\",result)\n",
    "        elif choice ==2:\n",
    "            num1,num2 = obj.getNum()\n",
    "            result = obj.sub(num1,num2)\n",
    "            print(\"Result :\",result)\n",
    "        elif choice ==3:\n",
    "            num1,num2 = obj.getNum()\n",
    "            result = obj.multi(num1,num2)\n",
    "            print(\"Result :\",result)\n",
    "        elif choice ==4:\n",
    "            num1,num2 = obj.getNum()\n",
    "            result = obj.div(num1,num2)\n",
    "            print(\"Result :\",result)\n",
    "        elif choice == 5:\n",
    "            break\n",
    "        else:\n",
    "            print(\"Invalid Choice!!\")\n",
    "        \n",
    "    print(\"Program Executed\")\n",
    "\n",
    "if __name__==\"__main__\":\n",
    "    main()"
   ]
  },
  {
   "cell_type": "code",
   "execution_count": 40,
   "id": "29183a6e-91b7-4573-bd3e-8ec179354eed",
   "metadata": {},
   "outputs": [
    {
     "name": "stdin",
     "output_type": "stream",
     "text": [
      "Enter the number of rows: 4\n"
     ]
    },
    {
     "name": "stdout",
     "output_type": "stream",
     "text": [
      "7 8 9 10 \n",
      "4 5 6 \n",
      "2 3 \n",
      "1 \n"
     ]
    }
   ],
   "source": [
    "row = int(input(\"Enter the number of rows:\"))\n",
    "count=int((row*(row+1))/2)\n",
    "for i in range(row):\n",
    "    count -= row-i\n",
    "    for j in range(row-i):\n",
    "        print(count+j+1,end=\" \")\n",
    "    print()"
   ]
  },
  {
   "cell_type": "code",
   "execution_count": 58,
   "id": "24f51a92-3083-4a9c-876a-4539582a33f0",
   "metadata": {},
   "outputs": [
    {
     "name": "stdin",
     "output_type": "stream",
     "text": [
      "Enter the length of the array: 2\n"
     ]
    },
    {
     "name": "stdout",
     "output_type": "stream",
     "text": [
      "Enter the values of Array 1:\n"
     ]
    },
    {
     "name": "stdin",
     "output_type": "stream",
     "text": [
      " 1\n",
      " 2\n",
      " 3\n",
      " 4\n"
     ]
    },
    {
     "name": "stdout",
     "output_type": "stream",
     "text": [
      "Enter the values of Array 1:\n"
     ]
    },
    {
     "name": "stdin",
     "output_type": "stream",
     "text": [
      " 5\n",
      " 6\n",
      " 7\n",
      " 8\n"
     ]
    },
    {
     "name": "stdout",
     "output_type": "stream",
     "text": [
      "6 8 \n",
      "10 12 \n"
     ]
    }
   ],
   "source": [
    "class ArrayFunction:\n",
    "    def getArray(self):\n",
    "        length = int(input(\"Enter the length of the array:\"))\n",
    "        \n",
    "        arr1=[]\n",
    "        arr2=[]\n",
    "        \n",
    "        print(\"Enter the values of Array 1:\")\n",
    "        for i in range(length):\n",
    "            row=[]\n",
    "            for j in range(length):\n",
    "                val=int(input())\n",
    "                row.append(val)\n",
    "            arr1.append(row)\n",
    "            \n",
    "        print(\"Enter the values of Array 1:\")\n",
    "        for i in range(length):\n",
    "            row=[]\n",
    "            for j in range(length):\n",
    "                val=int(input())\n",
    "                row.append(val)\n",
    "            arr2.append(row)\n",
    "\n",
    "        return arr1,arr2\n",
    "\n",
    "    def addArray(self,arr1,arr2):\n",
    "        sum=[]\n",
    "        for i in range(len(arr1)):\n",
    "            row=[]\n",
    "            for j in range(len(arr1)):\n",
    "                val = arr1[i][j]+arr2[i][j]\n",
    "                row.append(val)\n",
    "            sum.append(row)\n",
    "        return sum\n",
    "\n",
    "    def displayArray(self,arr):\n",
    "\n",
    "        for row in arr:\n",
    "            for ele in row:\n",
    "                print(ele,end=' ')\n",
    "            print()\n",
    "\n",
    "def main():\n",
    "    \n",
    "    obj = ArrayFunction()\n",
    "    arr1,arr2 = obj.getArray()\n",
    "\n",
    "    sum = obj.addArray(arr1,arr2)\n",
    "\n",
    "    obj.displayArray(sum)\n",
    "\n",
    "if __name__ == \"__main__\":\n",
    "    main()"
   ]
  },
  {
   "cell_type": "markdown",
   "id": "06d7e0b6-1c56-4a39-9e64-1fee39d02e2c",
   "metadata": {},
   "source": [
    "# Numpy"
   ]
  },
  {
   "cell_type": "code",
   "execution_count": 4,
   "id": "4f20008b-9101-4932-8895-5d35511d5c80",
   "metadata": {},
   "outputs": [],
   "source": [
    "import numpy as np"
   ]
  },
  {
   "cell_type": "code",
   "execution_count": 25,
   "id": "71dca674-93ea-4358-b0c1-b964f78464bf",
   "metadata": {},
   "outputs": [
    {
     "data": {
      "text/plain": [
       "array([32,  4,  7,  3,  2])"
      ]
     },
     "execution_count": 25,
     "metadata": {},
     "output_type": "execute_result"
    }
   ],
   "source": [
    "a = np.array([32,4,3,3,2])\n",
    "b = a[2:]\n",
    "b[0]=7\n",
    "a"
   ]
  },
  {
   "cell_type": "code",
   "execution_count": 105,
   "id": "ee412fc2-ac06-481f-b4c5-27cb66f10c5c",
   "metadata": {},
   "outputs": [
    {
     "name": "stdout",
     "output_type": "stream",
     "text": [
      "(3, 3)\n"
     ]
    },
    {
     "data": {
      "text/plain": [
       "2"
      ]
     },
     "execution_count": 105,
     "metadata": {},
     "output_type": "execute_result"
    }
   ],
   "source": [
    "a = np.array([[1,2,3],[4,5,6],[7,8,9]])\n",
    "print(a.shape)\n",
    "a.ndim"
   ]
  },
  {
   "cell_type": "code",
   "execution_count": 107,
   "id": "998328b8-b789-41fc-972a-916ce7a80f0d",
   "metadata": {},
   "outputs": [
    {
     "data": {
      "text/plain": [
       "True"
      ]
     },
     "execution_count": 107,
     "metadata": {},
     "output_type": "execute_result"
    }
   ],
   "source": [
    "len(a.shape)==a.ndim"
   ]
  },
  {
   "cell_type": "code",
   "execution_count": 109,
   "id": "6c3a5140-6663-4102-af9f-dcca4f098c05",
   "metadata": {},
   "outputs": [
    {
     "data": {
      "text/plain": [
       "array([[7, 8]])"
      ]
     },
     "execution_count": 109,
     "metadata": {},
     "output_type": "execute_result"
    }
   ],
   "source": [
    "a[2:,:2]"
   ]
  },
  {
   "cell_type": "code",
   "execution_count": 111,
   "id": "54d92344-9953-4341-97e3-b57a78d006f2",
   "metadata": {},
   "outputs": [
    {
     "name": "stdout",
     "output_type": "stream",
     "text": [
      "9\n"
     ]
    },
    {
     "data": {
      "text/plain": [
       "dtype('int32')"
      ]
     },
     "execution_count": 111,
     "metadata": {},
     "output_type": "execute_result"
    }
   ],
   "source": [
    "print(a.size)\n",
    "a.dtype"
   ]
  },
  {
   "cell_type": "code",
   "execution_count": 119,
   "id": "a388d81f-bda3-4837-a337-4c43a96a59a3",
   "metadata": {},
   "outputs": [
    {
     "data": {
      "text/plain": [
       "array([[0., 0., 0.],\n",
       "       [0., 0., 0.],\n",
       "       [0., 0., 0.]])"
      ]
     },
     "execution_count": 119,
     "metadata": {},
     "output_type": "execute_result"
    }
   ],
   "source": [
    "np.zeros((3,3))"
   ]
  },
  {
   "cell_type": "code",
   "execution_count": 123,
   "id": "2135b444-92f5-4665-b4b2-41d2f1ed2d68",
   "metadata": {},
   "outputs": [
    {
     "data": {
      "text/plain": [
       "array([1., 1., 1., 1., 1.])"
      ]
     },
     "execution_count": 123,
     "metadata": {},
     "output_type": "execute_result"
    }
   ],
   "source": [
    "np.ones(5)"
   ]
  },
  {
   "cell_type": "code",
   "execution_count": 159,
   "id": "62d79ff2-d80e-4a03-8891-efbd39b547eb",
   "metadata": {},
   "outputs": [
    {
     "data": {
      "text/plain": [
       "array([0., 0., 0.])"
      ]
     },
     "execution_count": 159,
     "metadata": {},
     "output_type": "execute_result"
    }
   ],
   "source": [
    "np.empty(3)"
   ]
  },
  {
   "cell_type": "code",
   "execution_count": 171,
   "id": "821ba76d-2085-4deb-86fb-c61aeb7ef674",
   "metadata": {},
   "outputs": [
    {
     "data": {
      "text/plain": [
       "array([2, 4, 6])"
      ]
     },
     "execution_count": 171,
     "metadata": {},
     "output_type": "execute_result"
    }
   ],
   "source": [
    "np.arange(2,7,2)"
   ]
  },
  {
   "cell_type": "code",
   "execution_count": 185,
   "id": "cbfe3118-2d13-4e35-8de7-5aaea151df56",
   "metadata": {},
   "outputs": [
    {
     "data": {
      "text/plain": [
       "array([11.        , 11.66666667, 12.33333333, 13.        ])"
      ]
     },
     "execution_count": 185,
     "metadata": {},
     "output_type": "execute_result"
    }
   ],
   "source": [
    "np.linspace(11,13,4)"
   ]
  },
  {
   "cell_type": "code",
   "execution_count": 207,
   "id": "033d9a2b-9182-4e99-962e-080731395d74",
   "metadata": {},
   "outputs": [
    {
     "data": {
      "text/plain": [
       "array([[ 2,  2,  4,  5,  5,  6,  7, 42],\n",
       "       [ 1,  3,  3,  4,  5,  6,  7, 23]])"
      ]
     },
     "execution_count": 207,
     "metadata": {},
     "output_type": "execute_result"
    }
   ],
   "source": [
    "arr = np.array([[5,42,6,4,2,5,7,2],[3,4,6,7,5,3,1,23]])\n",
    "np.sort(arr)\n",
    "\n",
    "#it will also sort for 2D array in row by row"
   ]
  },
  {
   "cell_type": "code",
   "execution_count": 219,
   "id": "565c3b64-5d6d-457c-94e9-a6f72b60643b",
   "metadata": {},
   "outputs": [
    {
     "data": {
      "text/plain": [
       "array([4, 5, 6, 7, 1, 2, 3, 4, 5])"
      ]
     },
     "execution_count": 219,
     "metadata": {},
     "output_type": "execute_result"
    }
   ],
   "source": [
    "a = np.array([1,2,3,4,5])\n",
    "b = np.array([4,5,6,7])\n",
    "\n",
    "np.concatenate((b,a))"
   ]
  },
  {
   "cell_type": "code",
   "execution_count": 237,
   "id": "7b168cea-61d0-450f-ab46-d44c8c32d291",
   "metadata": {},
   "outputs": [
    {
     "name": "stdout",
     "output_type": "stream",
     "text": [
      "[[1 2]\n",
      " [3 4]\n",
      " [5 6]\n",
      " [7 8]]\n",
      "[[1 2 5 6]\n",
      " [3 4 7 8]]\n"
     ]
    }
   ],
   "source": [
    "x = np.array([[1,2], [3,4]])\n",
    "y = np.array([[5,6],[7,8]])\n",
    "\n",
    "print(np.concatenate((x,y),axis=0))\n",
    "print(np.concatenate((x,y),axis=1))"
   ]
  },
  {
   "cell_type": "code",
   "execution_count": 271,
   "id": "8f833ef7-41df-474e-a2e3-255ae27e3fa2",
   "metadata": {},
   "outputs": [
    {
     "data": {
      "text/plain": [
       "array([[[  0,   1,   2,   3],\n",
       "        [  4,   5,   6,   7]],\n",
       "\n",
       "       [[  0,  10,  20,  30],\n",
       "        [ 40,  50,  60,  70]],\n",
       "\n",
       "       [[  0, 100, 200, 300],\n",
       "        [400, 500, 600, 700]]])"
      ]
     },
     "execution_count": 271,
     "metadata": {},
     "output_type": "execute_result"
    }
   ],
   "source": [
    "array = np.array([[[0,1,2,3],[4,5,6,7]],[[00,10,20,30],[40,50,60,70]],[[000,100,200,300],[400,500,600,700]]])\n",
    "array"
   ]
  },
  {
   "cell_type": "code",
   "execution_count": 273,
   "id": "165056c4-f01b-4a88-97f2-798608714819",
   "metadata": {},
   "outputs": [
    {
     "name": "stdout",
     "output_type": "stream",
     "text": [
      "3\n",
      "(3, 2, 4)\n"
     ]
    },
    {
     "data": {
      "text/plain": [
       "24"
      ]
     },
     "execution_count": 273,
     "metadata": {},
     "output_type": "execute_result"
    }
   ],
   "source": [
    "print(array.ndim)\n",
    "print(array.shape)\n",
    "array.size"
   ]
  },
  {
   "cell_type": "code",
   "execution_count": 275,
   "id": "58507c5c-a6a9-4185-8028-335582071871",
   "metadata": {},
   "outputs": [
    {
     "data": {
      "text/plain": [
       "array([[[  0,   1,   2],\n",
       "        [  3,   4,   5],\n",
       "        [  6,   7,   0],\n",
       "        [ 10,  20,  30]],\n",
       "\n",
       "       [[ 40,  50,  60],\n",
       "        [ 70,   0, 100],\n",
       "        [200, 300, 400],\n",
       "        [500, 600, 700]]])"
      ]
     },
     "execution_count": 275,
     "metadata": {},
     "output_type": "execute_result"
    }
   ],
   "source": [
    "array.reshape(2,4,3)"
   ]
  },
  {
   "cell_type": "code",
   "execution_count": 309,
   "id": "089799c3-ba6d-487a-9862-d1e188c9150d",
   "metadata": {},
   "outputs": [
    {
     "data": {
      "text/plain": [
       "array([[  0,   2],\n",
       "       [  0,  20],\n",
       "       [  0, 200],\n",
       "       [  4,   6],\n",
       "       [ 40,  60],\n",
       "       [400, 600],\n",
       "       [  1,   3],\n",
       "       [ 10,  30],\n",
       "       [100, 300],\n",
       "       [  5,   7],\n",
       "       [ 50,  70],\n",
       "       [500, 700]])"
      ]
     },
     "execution_count": 309,
     "metadata": {},
     "output_type": "execute_result"
    }
   ],
   "source": [
    "np.reshape(array,newshape=(12,2),order=\"F\")"
   ]
  },
  {
   "cell_type": "code",
   "execution_count": 355,
   "id": "2dac5bf8-730a-4a7a-88ca-b241c7e799a3",
   "metadata": {},
   "outputs": [
    {
     "name": "stdout",
     "output_type": "stream",
     "text": [
      "[1 2 3 4 5 6 7 8]\n",
      "(8,)\n",
      "[[1 2 3 4 5 6 7 8]]\n",
      "(1, 8)\n",
      "[[1]\n",
      " [2]\n",
      " [3]\n",
      " [4]\n",
      " [5]\n",
      " [6]\n",
      " [7]\n",
      " [8]]\n",
      "(8, 1)\n"
     ]
    }
   ],
   "source": [
    "a = np.array([1,2,3,4,5,6,7,8])\n",
    "print(a)\n",
    "print(a.shape)\n",
    "b=a[np.newaxis,]\n",
    "print(b)\n",
    "print(b.shape)\n",
    "c=a[:,np.newaxis]\n",
    "print(c)\n",
    "print(c.shape)"
   ]
  },
  {
   "cell_type": "code",
   "execution_count": 361,
   "id": "2db92742-6594-48d8-8bc9-a4f8ad4700c2",
   "metadata": {},
   "outputs": [
    {
     "name": "stdout",
     "output_type": "stream",
     "text": [
      "[1 2 3 4 5 6 7 8]\n",
      "(8,)\n"
     ]
    },
    {
     "data": {
      "text/plain": [
       "(1, 8)"
      ]
     },
     "execution_count": 361,
     "metadata": {},
     "output_type": "execute_result"
    }
   ],
   "source": [
    "a = np.array([1,2,3,4,5,6,7,8])\n",
    "print(a)\n",
    "print(a.shape)\n",
    "b=np.expand_dims(a, axis=0)\n",
    "b.shape"
   ]
  },
  {
   "cell_type": "code",
   "execution_count": 395,
   "id": "19d77f8a-271c-4d9e-a889-31c8ea30fcb4",
   "metadata": {},
   "outputs": [
    {
     "name": "stdout",
     "output_type": "stream",
     "text": [
      "[5 6 7 8]\n",
      "[6 8]\n"
     ]
    },
    {
     "data": {
      "text/plain": [
       "array([False,  True, False,  True, False,  True,  True,  True])"
      ]
     },
     "execution_count": 395,
     "metadata": {},
     "output_type": "execute_result"
    }
   ],
   "source": [
    "print(a[a>=5])\n",
    "print(a[(a>5) & (a%2==0)])\n",
    "(a>5) | (a%2==0)"
   ]
  },
  {
   "cell_type": "code",
   "execution_count": 415,
   "id": "c9ebb15c-e3de-4912-9405-8ce80d7df0b2",
   "metadata": {},
   "outputs": [
    {
     "name": "stdout",
     "output_type": "stream",
     "text": [
      "(array([0, 0, 1, 1, 1], dtype=int64), array([1, 3, 1, 2, 3], dtype=int64))\n"
     ]
    },
    {
     "data": {
      "text/plain": [
       "array([2, 4, 6, 7, 8])"
      ]
     },
     "execution_count": 415,
     "metadata": {},
     "output_type": "execute_result"
    }
   ],
   "source": [
    "a = np.array([[1,2,3,4],[5,6,7,8]])\n",
    "b = np.nonzero((a>5) | (a%2==0))\n",
    "print(b)\n",
    "a[b]"
   ]
  },
  {
   "cell_type": "code",
   "execution_count": 467,
   "id": "4f0be5cb-9996-4723-8883-598acf31ee85",
   "metadata": {},
   "outputs": [
    {
     "name": "stdout",
     "output_type": "stream",
     "text": [
      "[[ 1  2  3  4  5  6  7  8  9 10 11 12]\n",
      " [13 14 15 16 17 18 19 20 21 22 23 24]]\n"
     ]
    },
    {
     "data": {
      "text/plain": [
       "[array([[ 1,  2,  3,  4,  5,  6],\n",
       "        [13, 14, 15, 16, 17, 18]]),\n",
       " array([], shape=(2, 0), dtype=int32),\n",
       " array([[ 4,  5,  6,  7,  8,  9, 10, 11, 12],\n",
       "        [16, 17, 18, 19, 20, 21, 22, 23, 24]])]"
      ]
     },
     "execution_count": 467,
     "metadata": {},
     "output_type": "execute_result"
    }
   ],
   "source": [
    "x = np.arange(1,25).reshape(2,12)\n",
    "print(x)\n",
    "np.hsplit(x,(6,3))"
   ]
  },
  {
   "cell_type": "code",
   "execution_count": 471,
   "id": "49e8a89d-be63-49d4-9eb3-58dfec504865",
   "metadata": {},
   "outputs": [
    {
     "data": {
      "text/plain": [
       "array([[323, 323, 323, 323, 323, 323, 323, 323, 323, 323, 323, 323],\n",
       "       [ 13,  14,  15,  16,  17,  18,  19,  20,  21,  22,  23,  24]])"
      ]
     },
     "execution_count": 471,
     "metadata": {},
     "output_type": "execute_result"
    }
   ],
   "source": [
    "b = x.copy()\n",
    "b[0]=323\n",
    "b"
   ]
  },
  {
   "cell_type": "code",
   "execution_count": 473,
   "id": "287acb8b-4527-4b5e-ae99-8c3b30dff7b7",
   "metadata": {},
   "outputs": [
    {
     "data": {
      "text/plain": [
       "array([[ 1,  2,  3,  4,  5,  6,  7,  8,  9, 10, 11, 12],\n",
       "       [13, 14, 15, 16, 17, 18, 19, 20, 21, 22, 23, 24]])"
      ]
     },
     "execution_count": 473,
     "metadata": {},
     "output_type": "execute_result"
    }
   ],
   "source": [
    "x"
   ]
  },
  {
   "cell_type": "code",
   "execution_count": 543,
   "id": "6a1e4980-4ce5-4f3b-84ed-9a3fe80b94e0",
   "metadata": {},
   "outputs": [
    {
     "name": "stdout",
     "output_type": "stream",
     "text": [
      "[[ 3 21]\n",
      " [-6  6]]\n",
      "[[ 1  7]\n",
      " [-2  2]]\n"
     ]
    },
    {
     "data": {
      "text/plain": [
       "array([ 2, -2])"
      ]
     },
     "execution_count": 543,
     "metadata": {},
     "output_type": "execute_result"
    }
   ],
   "source": [
    "b = np.array([[1,7],[-2,2]])\n",
    "a =np.array([3,3])\n",
    "\n",
    "print(b*a)\n",
    "print(b)\n",
    "np.flip(b[1])"
   ]
  },
  {
   "cell_type": "code",
   "execution_count": 547,
   "id": "561198f5-fd53-4f85-9abb-728e769c38d2",
   "metadata": {},
   "outputs": [
    {
     "data": {
      "text/plain": [
       "array([ 1,  7, -2,  2])"
      ]
     },
     "execution_count": 547,
     "metadata": {},
     "output_type": "execute_result"
    }
   ],
   "source": [
    "b.ravel()"
   ]
  },
  {
   "cell_type": "code",
   "execution_count": 625,
   "id": "92cc37f9-ad77-4c08-9cd2-658341b11d70",
   "metadata": {},
   "outputs": [
    {
     "name": "stdout",
     "output_type": "stream",
     "text": [
      "6\n",
      "30\n",
      "113.747\n",
      "8.8\n"
     ]
    }
   ],
   "source": [
    "def sum_numbers(*values):\n",
    "    return sum(values)\n",
    "    \n",
    "print(sum_numbers(1,2,3))\n",
    "print(sum_numbers(8, 20, 2 ))\n",
    "print(sum_numbers(12.5, 3.147, 98.1))\n",
    "print(sum_numbers(1.1, 2.2, 5.5 ))"
   ]
  },
  {
   "cell_type": "code",
   "execution_count": 749,
   "id": "f3d88c6a-3bda-4f98-9f71-23641c16abea",
   "metadata": {},
   "outputs": [
    {
     "data": {
      "text/plain": [
       "True"
      ]
     },
     "execution_count": 749,
     "metadata": {},
     "output_type": "execute_result"
    }
   ],
   "source": [
    "pantry = {\n",
    "    \"chicken\": 500,\n",
    "    \"lemon\": 2,\n",
    "    \"cumin\": 24,\n",
    "    \"paprika\": 18,\n",
    "    \"chilli powder\": 7,\n",
    "    \"yogurt\": 300,\n",
    "    \"oil\": 450,\n",
    "    \"onion\": 5,\n",
    "    \"garlic\": 9,\n",
    "    \"ginger\": 2,\n",
    "    \"tomato puree\": 125,\n",
    "    \"almonds\": 75,\n",
    "    \"rice\": 500,\n",
    "    \"coriander\": 20,\n",
    "    \"lime\": 3,\n",
    "    \"pepper\": 8,\n",
    "    \"egg\": 6,\n",
    "    \"pizza\": 2,\n",
    "    \"spam\": 1,\n",
    "}\n",
    "\n",
    "recipes = {\n",
    "    \"Butter chicken\": [\"chicken\",\"lemon\",\"cumin\",\"paprika\",\"chilli powder\",\"yogurt\",\n",
    "                       \"oil\",\"onion\",\"garlic\",\"ginger\",\"tomato puree\",\"almonds\",\"rice\",\"coriander\",\"lime\",],\n",
    "    \n",
    "    \"Chicken and chips\": [\"chicken\",\"potatoes\",\"salt\",\"malt vinegar\",],\n",
    "    \n",
    "    \"Pizza\": [\"pizza\",],\n",
    "    \n",
    "    \"Egg sandwich\": [\"egg\",\"bread\",\"butter\",],\n",
    "    \n",
    "    \"Beans on toast\": [\"beans\",\"bread\",],\n",
    "    \n",
    "    \"Spam a la tin\": [\"spam\",\"tin opener\",\"spoon\",],\n",
    "}\n"
   ]
  },
  {
   "cell_type": "code",
   "execution_count": 766,
   "id": "0e04a77b-7e12-4a9e-92e9-fbf6f729a940",
   "metadata": {},
   "outputs": [
    {
     "name": "stdout",
     "output_type": "stream",
     "text": [
      "succeed\n",
      "No enough potatoes to cook Chicken and chips\n",
      "No enough salt to cook Chicken and chips\n",
      "No enough malt vinegar to cook Chicken and chips\n"
     ]
    }
   ],
   "source": [
    "selected_recipe = \"Chicken and chips\"\n",
    "for i in recipes[selected_recipe]:\n",
    "    if (i not in pantry) or (pantry[i]-1<0):\n",
    "            print(f\"No enough {i} to cook {selected_recipe}\")\n",
    "    else:\n",
    "            print(\"succeed\")"
   ]
  },
  {
   "cell_type": "code",
   "execution_count": 737,
   "id": "c113d671-4147-4ce8-ba88-94f457d0344b",
   "metadata": {},
   "outputs": [
    {
     "data": {
      "text/plain": [
       "{'chicken': 490,\n",
       " 'lemon': 0,\n",
       " 'cumin': 14,\n",
       " 'paprika': 8,\n",
       " 'chilli powder': 0,\n",
       " 'yogurt': 290,\n",
       " 'oil': 440,\n",
       " 'onion': 0,\n",
       " 'garlic': 0,\n",
       " 'ginger': 0,\n",
       " 'tomato puree': 115,\n",
       " 'almonds': 65,\n",
       " 'rice': 490,\n",
       " 'coriander': 10,\n",
       " 'lime': 0,\n",
       " 'pepper': 8,\n",
       " 'egg': 6,\n",
       " 'pizza': 2,\n",
       " 'spam': 1}"
      ]
     },
     "execution_count": 737,
     "metadata": {},
     "output_type": "execute_result"
    }
   ],
   "source": [
    "pantry"
   ]
  },
  {
   "cell_type": "code",
   "execution_count": 784,
   "id": "6cfb9503-41f4-4028-bd1c-8a1b2d80f3b4",
   "metadata": {},
   "outputs": [
    {
     "data": {
      "text/plain": [
       "['1*2=1',\n",
       " '2*2=4',\n",
       " '3*2=9',\n",
       " '4*2=16',\n",
       " '5*2=25',\n",
       " '6*2=36',\n",
       " '7*2=49',\n",
       " '8*2=64',\n",
       " '9*2=81',\n",
       " '10*2=100',\n",
       " '11*2=121',\n",
       " '12*2=144',\n",
       " '13*2=169',\n",
       " '14*2=196',\n",
       " '15*2=225',\n",
       " '16*2=256',\n",
       " '17*2=289',\n",
       " '18*2=324',\n",
       " '19*2=361',\n",
       " '20*2=400',\n",
       " '21*2=441',\n",
       " '22*2=484',\n",
       " '23*2=529',\n",
       " '24*2=576',\n",
       " '25*2=625']"
      ]
     },
     "execution_count": 784,
     "metadata": {},
     "output_type": "execute_result"
    }
   ],
   "source": [
    "list = [f\"{i}*{2}={i**2}\" for i in range(1,26)]\n",
    "list"
   ]
  },
  {
   "cell_type": "code",
   "execution_count": 792,
   "id": "3d1117ba-cbf1-43a0-a702-edfdb6d426bb",
   "metadata": {},
   "outputs": [
    {
     "data": {
      "text/plain": [
       "{('NFLX', 4950), ('TREX', 2400)}"
      ]
     },
     "execution_count": 792,
     "metadata": {},
     "output_type": "execute_result"
    }
   ],
   "source": [
    "dict1 ={\"NFLX\":4950,\"TREX\":2400,\"FIZZ\":180, \"XPO\":170}\n",
    "dict2 = {(key,value) for key,value in dict1.items() if value>200}\n",
    "dict2"
   ]
  },
  {
   "cell_type": "code",
   "execution_count": 178,
   "id": "2c1eb14c-ddf4-469f-8b5a-236c77dfe408",
   "metadata": {},
   "outputs": [
    {
     "name": "stdin",
     "output_type": "stream",
     "text": [
      "Enter any number other than 1. 3\n"
     ]
    },
    {
     "name": "stdout",
     "output_type": "stream",
     "text": [
      "Input : 3\n",
      "Program Executed\n"
     ]
    }
   ],
   "source": [
    "class OneError(Exception):\n",
    "    def __init__(self,message=\"Not supposed to press 1\"):\n",
    "        self.message =  message\n",
    "        super().__init__(self.message)\n",
    "\n",
    "try:\n",
    "    choice = int(input(\"Enter any number other than 1.\"))\n",
    "    if choice == 1:\n",
    "        raise OneError()\n",
    "except OneError as e:\n",
    "    print(e)\n",
    "else:\n",
    "    print(\"Input :\",choice)\n",
    "finally:\n",
    "    print(\"Program Executed\")\n"
   ]
  },
  {
   "cell_type": "code",
   "execution_count": 53,
   "id": "b33241c4-0824-4acb-b9cd-38318fde56b5",
   "metadata": {},
   "outputs": [
    {
     "name": "stdout",
     "output_type": "stream",
     "text": [
      "10\n"
     ]
    },
    {
     "data": {
      "text/plain": [
       "'watermelon'"
      ]
     },
     "execution_count": 53,
     "metadata": {},
     "output_type": "execute_result"
    }
   ],
   "source": [
    "example = ['apple' , 'banana' , 'watermelon', 'jackfruit' , 'pineapple']\n",
    "top=0\n",
    "res=None\n",
    "for i in range(len(example)):\n",
    "    value=len(example[i])\n",
    "    if top>=value:\n",
    "        continue\n",
    "    else:\n",
    "        top=value\n",
    "        res=example[i]\n",
    "\n",
    "print(top)\n",
    "res"
   ]
  },
  {
   "cell_type": "code",
   "execution_count": 210,
   "id": "82c9132d-5d5c-40b5-82b9-ac6902f5ac1b",
   "metadata": {},
   "outputs": [
    {
     "data": {
      "text/plain": [
       "array([ 5,  4, 34,  3,  2,  1])"
      ]
     },
     "execution_count": 210,
     "metadata": {},
     "output_type": "execute_result"
    }
   ],
   "source": [
    "arr = np.array([1,2,3,34,4,5])\n",
    "\n",
    "arr[::-1]\n"
   ]
  },
  {
   "cell_type": "markdown",
   "id": "2cbdcdd3-a06e-4213-ad20-28b814baeba4",
   "metadata": {},
   "source": [
    "# Pandas"
   ]
  },
  {
   "cell_type": "code",
   "execution_count": 7,
   "id": "c5f87eac-cf35-4750-a6e9-32f04fd69262",
   "metadata": {},
   "outputs": [],
   "source": [
    "import pandas as pd"
   ]
  },
  {
   "cell_type": "code",
   "execution_count": 269,
   "id": "9b1da3c7-7cac-46ad-941b-95488be7623f",
   "metadata": {},
   "outputs": [
    {
     "data": {
      "text/plain": [
       "0    1.0\n",
       "1    2.0\n",
       "2    3.0\n",
       "3    4.0\n",
       "4    NaN\n",
       "5    9.0\n",
       "dtype: float64"
      ]
     },
     "execution_count": 269,
     "metadata": {},
     "output_type": "execute_result"
    }
   ],
   "source": [
    "s = pd.Series([1,2,3,4,np.nan,9])\n",
    "s"
   ]
  },
  {
   "cell_type": "code",
   "execution_count": 299,
   "id": "994eaccc-d848-48c1-9a3b-91ea65662767",
   "metadata": {},
   "outputs": [
    {
     "data": {
      "text/plain": [
       "DatetimeIndex(['2013-01-01 00:00:00', '2013-01-01 12:00:00',\n",
       "               '2013-01-02 00:00:00', '2013-01-02 12:00:00',\n",
       "               '2013-01-03 00:00:00', '2013-01-03 12:00:00',\n",
       "               '2013-01-04 00:00:00'],\n",
       "              dtype='datetime64[ns]', freq=None)"
      ]
     },
     "execution_count": 299,
     "metadata": {},
     "output_type": "execute_result"
    }
   ],
   "source": [
    "dates = pd.date_range(\"20130101\",\"20130104\",periods=7)\n",
    "dates"
   ]
  },
  {
   "cell_type": "code",
   "execution_count": 345,
   "id": "802494ce-f85a-4107-9089-367c88df9249",
   "metadata": {},
   "outputs": [
    {
     "data": {
      "text/html": [
       "<div>\n",
       "<style scoped>\n",
       "    .dataframe tbody tr th:only-of-type {\n",
       "        vertical-align: middle;\n",
       "    }\n",
       "\n",
       "    .dataframe tbody tr th {\n",
       "        vertical-align: top;\n",
       "    }\n",
       "\n",
       "    .dataframe thead th {\n",
       "        text-align: right;\n",
       "    }\n",
       "</style>\n",
       "<table border=\"1\" class=\"dataframe\">\n",
       "  <thead>\n",
       "    <tr style=\"text-align: right;\">\n",
       "      <th></th>\n",
       "      <th>A</th>\n",
       "      <th>S</th>\n",
       "      <th>D</th>\n",
       "      <th>F</th>\n",
       "    </tr>\n",
       "  </thead>\n",
       "  <tbody>\n",
       "    <tr>\n",
       "      <th>2013-01-01 00:00:00</th>\n",
       "      <td>-0.767229</td>\n",
       "      <td>1.816815</td>\n",
       "      <td>0.147178</td>\n",
       "      <td>0.263609</td>\n",
       "    </tr>\n",
       "    <tr>\n",
       "      <th>2013-01-01 12:00:00</th>\n",
       "      <td>0.308014</td>\n",
       "      <td>1.932368</td>\n",
       "      <td>-1.893873</td>\n",
       "      <td>-0.814501</td>\n",
       "    </tr>\n",
       "    <tr>\n",
       "      <th>2013-01-02 00:00:00</th>\n",
       "      <td>-1.926227</td>\n",
       "      <td>0.070986</td>\n",
       "      <td>1.611013</td>\n",
       "      <td>-0.214541</td>\n",
       "    </tr>\n",
       "    <tr>\n",
       "      <th>2013-01-02 12:00:00</th>\n",
       "      <td>-1.101158</td>\n",
       "      <td>-1.697125</td>\n",
       "      <td>0.000389</td>\n",
       "      <td>-0.453856</td>\n",
       "    </tr>\n",
       "    <tr>\n",
       "      <th>2013-01-03 00:00:00</th>\n",
       "      <td>0.474640</td>\n",
       "      <td>-0.248561</td>\n",
       "      <td>-1.013344</td>\n",
       "      <td>-0.505185</td>\n",
       "    </tr>\n",
       "    <tr>\n",
       "      <th>2013-01-03 12:00:00</th>\n",
       "      <td>-0.718804</td>\n",
       "      <td>2.388189</td>\n",
       "      <td>-1.637420</td>\n",
       "      <td>-0.094546</td>\n",
       "    </tr>\n",
       "    <tr>\n",
       "      <th>2013-01-04 00:00:00</th>\n",
       "      <td>0.019170</td>\n",
       "      <td>-0.880639</td>\n",
       "      <td>0.910887</td>\n",
       "      <td>2.483575</td>\n",
       "    </tr>\n",
       "  </tbody>\n",
       "</table>\n",
       "</div>"
      ],
      "text/plain": [
       "                            A         S         D         F\n",
       "2013-01-01 00:00:00 -0.767229  1.816815  0.147178  0.263609\n",
       "2013-01-01 12:00:00  0.308014  1.932368 -1.893873 -0.814501\n",
       "2013-01-02 00:00:00 -1.926227  0.070986  1.611013 -0.214541\n",
       "2013-01-02 12:00:00 -1.101158 -1.697125  0.000389 -0.453856\n",
       "2013-01-03 00:00:00  0.474640 -0.248561 -1.013344 -0.505185\n",
       "2013-01-03 12:00:00 -0.718804  2.388189 -1.637420 -0.094546\n",
       "2013-01-04 00:00:00  0.019170 -0.880639  0.910887  2.483575"
      ]
     },
     "execution_count": 345,
     "metadata": {},
     "output_type": "execute_result"
    }
   ],
   "source": [
    "df1 = pd.DataFrame(np.random.randn(7,4),index=dates,columns = list(\"ASDF\"))\n",
    "df1"
   ]
  },
  {
   "cell_type": "code",
   "execution_count": 377,
   "id": "b3a628b5-b1d8-48a3-bb4f-af344564719b",
   "metadata": {},
   "outputs": [
    {
     "name": "stdout",
     "output_type": "stream",
     "text": [
      "     A          B    C  D      E     F\n",
      "0  7.0 2003-12-29  1.0  3   test  Suii\n",
      "1  7.0 2003-12-29  1.0  3  train  Suii\n",
      "2  7.0 2003-12-29  1.0  3   test  Suii\n",
      "3  7.0 2003-12-29  1.0  3  train  Suii\n"
     ]
    },
    {
     "data": {
      "text/plain": [
       "A          float64\n",
       "B    datetime64[s]\n",
       "C          float32\n",
       "D            int32\n",
       "E         category\n",
       "F           object\n",
       "dtype: object"
      ]
     },
     "execution_count": 377,
     "metadata": {},
     "output_type": "execute_result"
    }
   ],
   "source": [
    "df2 = pd.DataFrame(\n",
    "    {\n",
    "        \"A\":7.0,\n",
    "        \"B\":pd.Timestamp(\"20031229\"),\n",
    "        \"C\":pd.Series(1, index=list(range(4)),dtype=\"float32\"),\n",
    "        \"D\":np.array([3]*4,dtype=\"int32\"),\n",
    "        \"E\":pd.Categorical([\"test\",\"train\",\"test\",\"train\"]),\n",
    "        \"F\":\"Suii\"\n",
    "    }\n",
    ")\n",
    "\n",
    "print(df2)\n",
    "df2.dtypes"
   ]
  },
  {
   "cell_type": "code",
   "execution_count": 399,
   "id": "43c26f80-0fdc-4cfe-9d09-9fbbac9288b2",
   "metadata": {},
   "outputs": [
    {
     "data": {
      "text/plain": [
       "array([[-7.67229173e-01,  1.81681511e+00,  1.47177836e-01,\n",
       "         2.63609499e-01],\n",
       "       [ 3.08013564e-01,  1.93236849e+00, -1.89387266e+00,\n",
       "        -8.14501256e-01],\n",
       "       [-1.92622722e+00,  7.09864909e-02,  1.61101320e+00,\n",
       "        -2.14540702e-01],\n",
       "       [-1.10115836e+00, -1.69712549e+00,  3.89484427e-04,\n",
       "        -4.53856285e-01],\n",
       "       [ 4.74640351e-01, -2.48561400e-01, -1.01334358e+00,\n",
       "        -5.05184972e-01],\n",
       "       [-7.18804040e-01,  2.38818920e+00, -1.63742020e+00,\n",
       "        -9.45462039e-02],\n",
       "       [ 1.91698748e-02, -8.80639238e-01,  9.10887121e-01,\n",
       "         2.48357545e+00]])"
      ]
     },
     "execution_count": 399,
     "metadata": {},
     "output_type": "execute_result"
    }
   ],
   "source": [
    "df1.to_numpy()"
   ]
  },
  {
   "cell_type": "code",
   "execution_count": 409,
   "id": "c7afdb25-a1ca-4582-b4cb-ebc04dc7a11c",
   "metadata": {},
   "outputs": [
    {
     "data": {
      "text/plain": [
       "array([[7.0, Timestamp('2003-12-29 00:00:00'), 1.0, 3, 'test', 'Suii'],\n",
       "       [7.0, Timestamp('2003-12-29 00:00:00'), 1.0, 3, 'train', 'Suii'],\n",
       "       [7.0, Timestamp('2003-12-29 00:00:00'), 1.0, 3, 'test', 'Suii'],\n",
       "       [7.0, Timestamp('2003-12-29 00:00:00'), 1.0, 3, 'train', 'Suii']],\n",
       "      dtype=object)"
      ]
     },
     "execution_count": 409,
     "metadata": {},
     "output_type": "execute_result"
    }
   ],
   "source": [
    "df2.to_numpy()"
   ]
  },
  {
   "cell_type": "code",
   "execution_count": 417,
   "id": "fa7149e0-3282-48dc-80b1-5eee9605a048",
   "metadata": {},
   "outputs": [
    {
     "data": {
      "text/html": [
       "<div>\n",
       "<style scoped>\n",
       "    .dataframe tbody tr th:only-of-type {\n",
       "        vertical-align: middle;\n",
       "    }\n",
       "\n",
       "    .dataframe tbody tr th {\n",
       "        vertical-align: top;\n",
       "    }\n",
       "\n",
       "    .dataframe thead th {\n",
       "        text-align: right;\n",
       "    }\n",
       "</style>\n",
       "<table border=\"1\" class=\"dataframe\">\n",
       "  <thead>\n",
       "    <tr style=\"text-align: right;\">\n",
       "      <th></th>\n",
       "      <th>A</th>\n",
       "      <th>S</th>\n",
       "      <th>D</th>\n",
       "      <th>F</th>\n",
       "    </tr>\n",
       "  </thead>\n",
       "  <tbody>\n",
       "    <tr>\n",
       "      <th>count</th>\n",
       "      <td>7.000000</td>\n",
       "      <td>7.000000</td>\n",
       "      <td>7.000000</td>\n",
       "      <td>7.000000</td>\n",
       "    </tr>\n",
       "    <tr>\n",
       "      <th>mean</th>\n",
       "      <td>-0.530228</td>\n",
       "      <td>0.483148</td>\n",
       "      <td>-0.267881</td>\n",
       "      <td>0.094937</td>\n",
       "    </tr>\n",
       "    <tr>\n",
       "      <th>std</th>\n",
       "      <td>0.854474</td>\n",
       "      <td>1.571988</td>\n",
       "      <td>1.306342</td>\n",
       "      <td>1.107108</td>\n",
       "    </tr>\n",
       "    <tr>\n",
       "      <th>min</th>\n",
       "      <td>-1.926227</td>\n",
       "      <td>-1.697125</td>\n",
       "      <td>-1.893873</td>\n",
       "      <td>-0.814501</td>\n",
       "    </tr>\n",
       "    <tr>\n",
       "      <th>25%</th>\n",
       "      <td>-0.934194</td>\n",
       "      <td>-0.564600</td>\n",
       "      <td>-1.325382</td>\n",
       "      <td>-0.479521</td>\n",
       "    </tr>\n",
       "    <tr>\n",
       "      <th>50%</th>\n",
       "      <td>-0.718804</td>\n",
       "      <td>0.070986</td>\n",
       "      <td>0.000389</td>\n",
       "      <td>-0.214541</td>\n",
       "    </tr>\n",
       "    <tr>\n",
       "      <th>75%</th>\n",
       "      <td>0.163592</td>\n",
       "      <td>1.874592</td>\n",
       "      <td>0.529032</td>\n",
       "      <td>0.084532</td>\n",
       "    </tr>\n",
       "    <tr>\n",
       "      <th>max</th>\n",
       "      <td>0.474640</td>\n",
       "      <td>2.388189</td>\n",
       "      <td>1.611013</td>\n",
       "      <td>2.483575</td>\n",
       "    </tr>\n",
       "  </tbody>\n",
       "</table>\n",
       "</div>"
      ],
      "text/plain": [
       "              A         S         D         F\n",
       "count  7.000000  7.000000  7.000000  7.000000\n",
       "mean  -0.530228  0.483148 -0.267881  0.094937\n",
       "std    0.854474  1.571988  1.306342  1.107108\n",
       "min   -1.926227 -1.697125 -1.893873 -0.814501\n",
       "25%   -0.934194 -0.564600 -1.325382 -0.479521\n",
       "50%   -0.718804  0.070986  0.000389 -0.214541\n",
       "75%    0.163592  1.874592  0.529032  0.084532\n",
       "max    0.474640  2.388189  1.611013  2.483575"
      ]
     },
     "execution_count": 417,
     "metadata": {},
     "output_type": "execute_result"
    }
   ],
   "source": [
    "df1.describe()"
   ]
  },
  {
   "cell_type": "code",
   "execution_count": 419,
   "id": "544c3a83-3bdd-4be6-aaf2-1e81e34dc03a",
   "metadata": {},
   "outputs": [
    {
     "data": {
      "text/html": [
       "<div>\n",
       "<style scoped>\n",
       "    .dataframe tbody tr th:only-of-type {\n",
       "        vertical-align: middle;\n",
       "    }\n",
       "\n",
       "    .dataframe tbody tr th {\n",
       "        vertical-align: top;\n",
       "    }\n",
       "\n",
       "    .dataframe thead th {\n",
       "        text-align: right;\n",
       "    }\n",
       "</style>\n",
       "<table border=\"1\" class=\"dataframe\">\n",
       "  <thead>\n",
       "    <tr style=\"text-align: right;\">\n",
       "      <th></th>\n",
       "      <th>2013-01-01 00:00:00</th>\n",
       "      <th>2013-01-01 12:00:00</th>\n",
       "      <th>2013-01-02 00:00:00</th>\n",
       "      <th>2013-01-02 12:00:00</th>\n",
       "      <th>2013-01-03 00:00:00</th>\n",
       "      <th>2013-01-03 12:00:00</th>\n",
       "      <th>2013-01-04 00:00:00</th>\n",
       "    </tr>\n",
       "  </thead>\n",
       "  <tbody>\n",
       "    <tr>\n",
       "      <th>A</th>\n",
       "      <td>-0.767229</td>\n",
       "      <td>0.308014</td>\n",
       "      <td>-1.926227</td>\n",
       "      <td>-1.101158</td>\n",
       "      <td>0.474640</td>\n",
       "      <td>-0.718804</td>\n",
       "      <td>0.019170</td>\n",
       "    </tr>\n",
       "    <tr>\n",
       "      <th>S</th>\n",
       "      <td>1.816815</td>\n",
       "      <td>1.932368</td>\n",
       "      <td>0.070986</td>\n",
       "      <td>-1.697125</td>\n",
       "      <td>-0.248561</td>\n",
       "      <td>2.388189</td>\n",
       "      <td>-0.880639</td>\n",
       "    </tr>\n",
       "    <tr>\n",
       "      <th>D</th>\n",
       "      <td>0.147178</td>\n",
       "      <td>-1.893873</td>\n",
       "      <td>1.611013</td>\n",
       "      <td>0.000389</td>\n",
       "      <td>-1.013344</td>\n",
       "      <td>-1.637420</td>\n",
       "      <td>0.910887</td>\n",
       "    </tr>\n",
       "    <tr>\n",
       "      <th>F</th>\n",
       "      <td>0.263609</td>\n",
       "      <td>-0.814501</td>\n",
       "      <td>-0.214541</td>\n",
       "      <td>-0.453856</td>\n",
       "      <td>-0.505185</td>\n",
       "      <td>-0.094546</td>\n",
       "      <td>2.483575</td>\n",
       "    </tr>\n",
       "  </tbody>\n",
       "</table>\n",
       "</div>"
      ],
      "text/plain": [
       "   2013-01-01 00:00:00  2013-01-01 12:00:00  2013-01-02 00:00:00  \\\n",
       "A            -0.767229             0.308014            -1.926227   \n",
       "S             1.816815             1.932368             0.070986   \n",
       "D             0.147178            -1.893873             1.611013   \n",
       "F             0.263609            -0.814501            -0.214541   \n",
       "\n",
       "   2013-01-02 12:00:00  2013-01-03 00:00:00  2013-01-03 12:00:00  \\\n",
       "A            -1.101158             0.474640            -0.718804   \n",
       "S            -1.697125            -0.248561             2.388189   \n",
       "D             0.000389            -1.013344            -1.637420   \n",
       "F            -0.453856            -0.505185            -0.094546   \n",
       "\n",
       "   2013-01-04 00:00:00  \n",
       "A             0.019170  \n",
       "S            -0.880639  \n",
       "D             0.910887  \n",
       "F             2.483575  "
      ]
     },
     "execution_count": 419,
     "metadata": {},
     "output_type": "execute_result"
    }
   ],
   "source": [
    "df1.T"
   ]
  },
  {
   "cell_type": "code",
   "execution_count": 435,
   "id": "8e996cab-6ab6-41ac-9147-926b4efaa3b1",
   "metadata": {},
   "outputs": [
    {
     "data": {
      "text/html": [
       "<div>\n",
       "<style scoped>\n",
       "    .dataframe tbody tr th:only-of-type {\n",
       "        vertical-align: middle;\n",
       "    }\n",
       "\n",
       "    .dataframe tbody tr th {\n",
       "        vertical-align: top;\n",
       "    }\n",
       "\n",
       "    .dataframe thead th {\n",
       "        text-align: right;\n",
       "    }\n",
       "</style>\n",
       "<table border=\"1\" class=\"dataframe\">\n",
       "  <thead>\n",
       "    <tr style=\"text-align: right;\">\n",
       "      <th></th>\n",
       "      <th>S</th>\n",
       "      <th>F</th>\n",
       "      <th>D</th>\n",
       "      <th>A</th>\n",
       "    </tr>\n",
       "  </thead>\n",
       "  <tbody>\n",
       "    <tr>\n",
       "      <th>2013-01-01 00:00:00</th>\n",
       "      <td>1.816815</td>\n",
       "      <td>0.263609</td>\n",
       "      <td>0.147178</td>\n",
       "      <td>-0.767229</td>\n",
       "    </tr>\n",
       "    <tr>\n",
       "      <th>2013-01-01 12:00:00</th>\n",
       "      <td>1.932368</td>\n",
       "      <td>-0.814501</td>\n",
       "      <td>-1.893873</td>\n",
       "      <td>0.308014</td>\n",
       "    </tr>\n",
       "    <tr>\n",
       "      <th>2013-01-02 00:00:00</th>\n",
       "      <td>0.070986</td>\n",
       "      <td>-0.214541</td>\n",
       "      <td>1.611013</td>\n",
       "      <td>-1.926227</td>\n",
       "    </tr>\n",
       "    <tr>\n",
       "      <th>2013-01-02 12:00:00</th>\n",
       "      <td>-1.697125</td>\n",
       "      <td>-0.453856</td>\n",
       "      <td>0.000389</td>\n",
       "      <td>-1.101158</td>\n",
       "    </tr>\n",
       "    <tr>\n",
       "      <th>2013-01-03 00:00:00</th>\n",
       "      <td>-0.248561</td>\n",
       "      <td>-0.505185</td>\n",
       "      <td>-1.013344</td>\n",
       "      <td>0.474640</td>\n",
       "    </tr>\n",
       "    <tr>\n",
       "      <th>2013-01-03 12:00:00</th>\n",
       "      <td>2.388189</td>\n",
       "      <td>-0.094546</td>\n",
       "      <td>-1.637420</td>\n",
       "      <td>-0.718804</td>\n",
       "    </tr>\n",
       "    <tr>\n",
       "      <th>2013-01-04 00:00:00</th>\n",
       "      <td>-0.880639</td>\n",
       "      <td>2.483575</td>\n",
       "      <td>0.910887</td>\n",
       "      <td>0.019170</td>\n",
       "    </tr>\n",
       "  </tbody>\n",
       "</table>\n",
       "</div>"
      ],
      "text/plain": [
       "                            S         F         D         A\n",
       "2013-01-01 00:00:00  1.816815  0.263609  0.147178 -0.767229\n",
       "2013-01-01 12:00:00  1.932368 -0.814501 -1.893873  0.308014\n",
       "2013-01-02 00:00:00  0.070986 -0.214541  1.611013 -1.926227\n",
       "2013-01-02 12:00:00 -1.697125 -0.453856  0.000389 -1.101158\n",
       "2013-01-03 00:00:00 -0.248561 -0.505185 -1.013344  0.474640\n",
       "2013-01-03 12:00:00  2.388189 -0.094546 -1.637420 -0.718804\n",
       "2013-01-04 00:00:00 -0.880639  2.483575  0.910887  0.019170"
      ]
     },
     "execution_count": 435,
     "metadata": {},
     "output_type": "execute_result"
    }
   ],
   "source": [
    "df1.sort_index(axis=1,ascending=False)"
   ]
  },
  {
   "cell_type": "code",
   "execution_count": 439,
   "id": "86dc7e97-455f-46ac-bb12-44c7324e99bb",
   "metadata": {},
   "outputs": [
    {
     "data": {
      "text/html": [
       "<div>\n",
       "<style scoped>\n",
       "    .dataframe tbody tr th:only-of-type {\n",
       "        vertical-align: middle;\n",
       "    }\n",
       "\n",
       "    .dataframe tbody tr th {\n",
       "        vertical-align: top;\n",
       "    }\n",
       "\n",
       "    .dataframe thead th {\n",
       "        text-align: right;\n",
       "    }\n",
       "</style>\n",
       "<table border=\"1\" class=\"dataframe\">\n",
       "  <thead>\n",
       "    <tr style=\"text-align: right;\">\n",
       "      <th></th>\n",
       "      <th>A</th>\n",
       "      <th>S</th>\n",
       "      <th>D</th>\n",
       "      <th>F</th>\n",
       "    </tr>\n",
       "  </thead>\n",
       "  <tbody>\n",
       "    <tr>\n",
       "      <th>2013-01-02 12:00:00</th>\n",
       "      <td>-1.101158</td>\n",
       "      <td>-1.697125</td>\n",
       "      <td>0.000389</td>\n",
       "      <td>-0.453856</td>\n",
       "    </tr>\n",
       "    <tr>\n",
       "      <th>2013-01-04 00:00:00</th>\n",
       "      <td>0.019170</td>\n",
       "      <td>-0.880639</td>\n",
       "      <td>0.910887</td>\n",
       "      <td>2.483575</td>\n",
       "    </tr>\n",
       "    <tr>\n",
       "      <th>2013-01-03 00:00:00</th>\n",
       "      <td>0.474640</td>\n",
       "      <td>-0.248561</td>\n",
       "      <td>-1.013344</td>\n",
       "      <td>-0.505185</td>\n",
       "    </tr>\n",
       "    <tr>\n",
       "      <th>2013-01-02 00:00:00</th>\n",
       "      <td>-1.926227</td>\n",
       "      <td>0.070986</td>\n",
       "      <td>1.611013</td>\n",
       "      <td>-0.214541</td>\n",
       "    </tr>\n",
       "    <tr>\n",
       "      <th>2013-01-01 00:00:00</th>\n",
       "      <td>-0.767229</td>\n",
       "      <td>1.816815</td>\n",
       "      <td>0.147178</td>\n",
       "      <td>0.263609</td>\n",
       "    </tr>\n",
       "    <tr>\n",
       "      <th>2013-01-01 12:00:00</th>\n",
       "      <td>0.308014</td>\n",
       "      <td>1.932368</td>\n",
       "      <td>-1.893873</td>\n",
       "      <td>-0.814501</td>\n",
       "    </tr>\n",
       "    <tr>\n",
       "      <th>2013-01-03 12:00:00</th>\n",
       "      <td>-0.718804</td>\n",
       "      <td>2.388189</td>\n",
       "      <td>-1.637420</td>\n",
       "      <td>-0.094546</td>\n",
       "    </tr>\n",
       "  </tbody>\n",
       "</table>\n",
       "</div>"
      ],
      "text/plain": [
       "                            A         S         D         F\n",
       "2013-01-02 12:00:00 -1.101158 -1.697125  0.000389 -0.453856\n",
       "2013-01-04 00:00:00  0.019170 -0.880639  0.910887  2.483575\n",
       "2013-01-03 00:00:00  0.474640 -0.248561 -1.013344 -0.505185\n",
       "2013-01-02 00:00:00 -1.926227  0.070986  1.611013 -0.214541\n",
       "2013-01-01 00:00:00 -0.767229  1.816815  0.147178  0.263609\n",
       "2013-01-01 12:00:00  0.308014  1.932368 -1.893873 -0.814501\n",
       "2013-01-03 12:00:00 -0.718804  2.388189 -1.637420 -0.094546"
      ]
     },
     "execution_count": 439,
     "metadata": {},
     "output_type": "execute_result"
    }
   ],
   "source": [
    "df1.sort_values(by=\"S\")"
   ]
  },
  {
   "cell_type": "code",
   "execution_count": 477,
   "id": "b33b85cd-428f-48fc-988a-4dfbbda4f346",
   "metadata": {},
   "outputs": [
    {
     "name": "stdout",
     "output_type": "stream",
     "text": [
      "                            A         S         D         F\n",
      "2013-01-01 00:00:00 -0.767229  1.816815  0.147178  0.263609\n",
      "2013-01-01 12:00:00  0.308014  1.932368 -1.893873 -0.814501\n",
      "2013-01-02 00:00:00 -1.926227  0.070986  1.611013 -0.214541\n"
     ]
    },
    {
     "data": {
      "text/html": [
       "<div>\n",
       "<style scoped>\n",
       "    .dataframe tbody tr th:only-of-type {\n",
       "        vertical-align: middle;\n",
       "    }\n",
       "\n",
       "    .dataframe tbody tr th {\n",
       "        vertical-align: top;\n",
       "    }\n",
       "\n",
       "    .dataframe thead th {\n",
       "        text-align: right;\n",
       "    }\n",
       "</style>\n",
       "<table border=\"1\" class=\"dataframe\">\n",
       "  <thead>\n",
       "    <tr style=\"text-align: right;\">\n",
       "      <th></th>\n",
       "      <th>A</th>\n",
       "      <th>S</th>\n",
       "      <th>D</th>\n",
       "      <th>F</th>\n",
       "    </tr>\n",
       "  </thead>\n",
       "  <tbody>\n",
       "    <tr>\n",
       "      <th>2013-01-02 00:00:00</th>\n",
       "      <td>-1.926227</td>\n",
       "      <td>0.070986</td>\n",
       "      <td>1.611013</td>\n",
       "      <td>-0.214541</td>\n",
       "    </tr>\n",
       "    <tr>\n",
       "      <th>2013-01-02 12:00:00</th>\n",
       "      <td>-1.101158</td>\n",
       "      <td>-1.697125</td>\n",
       "      <td>0.000389</td>\n",
       "      <td>-0.453856</td>\n",
       "    </tr>\n",
       "    <tr>\n",
       "      <th>2013-01-03 00:00:00</th>\n",
       "      <td>0.474640</td>\n",
       "      <td>-0.248561</td>\n",
       "      <td>-1.013344</td>\n",
       "      <td>-0.505185</td>\n",
       "    </tr>\n",
       "  </tbody>\n",
       "</table>\n",
       "</div>"
      ],
      "text/plain": [
       "                            A         S         D         F\n",
       "2013-01-02 00:00:00 -1.926227  0.070986  1.611013 -0.214541\n",
       "2013-01-02 12:00:00 -1.101158 -1.697125  0.000389 -0.453856\n",
       "2013-01-03 00:00:00  0.474640 -0.248561 -1.013344 -0.505185"
      ]
     },
     "execution_count": 477,
     "metadata": {},
     "output_type": "execute_result"
    }
   ],
   "source": [
    "print(df1[0:3])\n",
    "df1[\"2013-01-02 00:00:00\":\"2013-01-03 00:00:00\"]"
   ]
  },
  {
   "cell_type": "code",
   "execution_count": 485,
   "id": "07fc030a-8df8-4407-99c5-8e64b2c7085c",
   "metadata": {},
   "outputs": [
    {
     "data": {
      "text/html": [
       "<div>\n",
       "<style scoped>\n",
       "    .dataframe tbody tr th:only-of-type {\n",
       "        vertical-align: middle;\n",
       "    }\n",
       "\n",
       "    .dataframe tbody tr th {\n",
       "        vertical-align: top;\n",
       "    }\n",
       "\n",
       "    .dataframe thead th {\n",
       "        text-align: right;\n",
       "    }\n",
       "</style>\n",
       "<table border=\"1\" class=\"dataframe\">\n",
       "  <thead>\n",
       "    <tr style=\"text-align: right;\">\n",
       "      <th></th>\n",
       "      <th>A</th>\n",
       "      <th>S</th>\n",
       "      <th>D</th>\n",
       "      <th>F</th>\n",
       "    </tr>\n",
       "  </thead>\n",
       "  <tbody>\n",
       "    <tr>\n",
       "      <th>2013-01-01 00:00:00</th>\n",
       "      <td>-0.767229</td>\n",
       "      <td>1.816815</td>\n",
       "      <td>0.147178</td>\n",
       "      <td>0.263609</td>\n",
       "    </tr>\n",
       "    <tr>\n",
       "      <th>2013-01-01 12:00:00</th>\n",
       "      <td>0.308014</td>\n",
       "      <td>1.932368</td>\n",
       "      <td>-1.893873</td>\n",
       "      <td>-0.814501</td>\n",
       "    </tr>\n",
       "    <tr>\n",
       "      <th>2013-01-02 00:00:00</th>\n",
       "      <td>-1.926227</td>\n",
       "      <td>0.070986</td>\n",
       "      <td>1.611013</td>\n",
       "      <td>-0.214541</td>\n",
       "    </tr>\n",
       "    <tr>\n",
       "      <th>2013-01-02 12:00:00</th>\n",
       "      <td>-1.101158</td>\n",
       "      <td>-1.697125</td>\n",
       "      <td>0.000389</td>\n",
       "      <td>-0.453856</td>\n",
       "    </tr>\n",
       "    <tr>\n",
       "      <th>2013-01-03 00:00:00</th>\n",
       "      <td>0.474640</td>\n",
       "      <td>-0.248561</td>\n",
       "      <td>-1.013344</td>\n",
       "      <td>-0.505185</td>\n",
       "    </tr>\n",
       "    <tr>\n",
       "      <th>2013-01-03 12:00:00</th>\n",
       "      <td>-0.718804</td>\n",
       "      <td>2.388189</td>\n",
       "      <td>-1.637420</td>\n",
       "      <td>-0.094546</td>\n",
       "    </tr>\n",
       "    <tr>\n",
       "      <th>2013-01-04 00:00:00</th>\n",
       "      <td>0.019170</td>\n",
       "      <td>-0.880639</td>\n",
       "      <td>0.910887</td>\n",
       "      <td>2.483575</td>\n",
       "    </tr>\n",
       "  </tbody>\n",
       "</table>\n",
       "</div>"
      ],
      "text/plain": [
       "                            A         S         D         F\n",
       "2013-01-01 00:00:00 -0.767229  1.816815  0.147178  0.263609\n",
       "2013-01-01 12:00:00  0.308014  1.932368 -1.893873 -0.814501\n",
       "2013-01-02 00:00:00 -1.926227  0.070986  1.611013 -0.214541\n",
       "2013-01-02 12:00:00 -1.101158 -1.697125  0.000389 -0.453856\n",
       "2013-01-03 00:00:00  0.474640 -0.248561 -1.013344 -0.505185\n",
       "2013-01-03 12:00:00 -0.718804  2.388189 -1.637420 -0.094546\n",
       "2013-01-04 00:00:00  0.019170 -0.880639  0.910887  2.483575"
      ]
     },
     "execution_count": 485,
     "metadata": {},
     "output_type": "execute_result"
    }
   ],
   "source": [
    "df1"
   ]
  },
  {
   "cell_type": "code",
   "execution_count": 483,
   "id": "4ae835ff-62fe-455c-9eeb-a6d2aa5cb204",
   "metadata": {},
   "outputs": [
    {
     "data": {
      "text/plain": [
       "A   -0.767229\n",
       "S    1.816815\n",
       "D    0.147178\n",
       "F    0.263609\n",
       "Name: 2013-01-01 00:00:00, dtype: float64"
      ]
     },
     "execution_count": 483,
     "metadata": {},
     "output_type": "execute_result"
    }
   ],
   "source": [
    "df1.loc[dates[0]]"
   ]
  },
  {
   "cell_type": "code",
   "execution_count": 495,
   "id": "bd8c5bad-546a-4ebe-8742-75aebbb3f633",
   "metadata": {},
   "outputs": [
    {
     "data": {
      "text/html": [
       "<div>\n",
       "<style scoped>\n",
       "    .dataframe tbody tr th:only-of-type {\n",
       "        vertical-align: middle;\n",
       "    }\n",
       "\n",
       "    .dataframe tbody tr th {\n",
       "        vertical-align: top;\n",
       "    }\n",
       "\n",
       "    .dataframe thead th {\n",
       "        text-align: right;\n",
       "    }\n",
       "</style>\n",
       "<table border=\"1\" class=\"dataframe\">\n",
       "  <thead>\n",
       "    <tr style=\"text-align: right;\">\n",
       "      <th></th>\n",
       "      <th>A</th>\n",
       "      <th>F</th>\n",
       "    </tr>\n",
       "  </thead>\n",
       "  <tbody>\n",
       "    <tr>\n",
       "      <th>2013-01-04 00:00:00</th>\n",
       "      <td>0.019170</td>\n",
       "      <td>2.483575</td>\n",
       "    </tr>\n",
       "    <tr>\n",
       "      <th>2013-01-03 12:00:00</th>\n",
       "      <td>-0.718804</td>\n",
       "      <td>-0.094546</td>\n",
       "    </tr>\n",
       "    <tr>\n",
       "      <th>2013-01-03 00:00:00</th>\n",
       "      <td>0.474640</td>\n",
       "      <td>-0.505185</td>\n",
       "    </tr>\n",
       "    <tr>\n",
       "      <th>2013-01-02 12:00:00</th>\n",
       "      <td>-1.101158</td>\n",
       "      <td>-0.453856</td>\n",
       "    </tr>\n",
       "    <tr>\n",
       "      <th>2013-01-02 00:00:00</th>\n",
       "      <td>-1.926227</td>\n",
       "      <td>-0.214541</td>\n",
       "    </tr>\n",
       "    <tr>\n",
       "      <th>2013-01-01 12:00:00</th>\n",
       "      <td>0.308014</td>\n",
       "      <td>-0.814501</td>\n",
       "    </tr>\n",
       "    <tr>\n",
       "      <th>2013-01-01 00:00:00</th>\n",
       "      <td>-0.767229</td>\n",
       "      <td>0.263609</td>\n",
       "    </tr>\n",
       "  </tbody>\n",
       "</table>\n",
       "</div>"
      ],
      "text/plain": [
       "                            A         F\n",
       "2013-01-04 00:00:00  0.019170  2.483575\n",
       "2013-01-03 12:00:00 -0.718804 -0.094546\n",
       "2013-01-03 00:00:00  0.474640 -0.505185\n",
       "2013-01-02 12:00:00 -1.101158 -0.453856\n",
       "2013-01-02 00:00:00 -1.926227 -0.214541\n",
       "2013-01-01 12:00:00  0.308014 -0.814501\n",
       "2013-01-01 00:00:00 -0.767229  0.263609"
      ]
     },
     "execution_count": 495,
     "metadata": {},
     "output_type": "execute_result"
    }
   ],
   "source": [
    "df1.loc[::-1,[\"A\",\"F\"]]"
   ]
  },
  {
   "cell_type": "code",
   "execution_count": 503,
   "id": "075d9e01-9e64-4a4d-a6da-791520d5abeb",
   "metadata": {},
   "outputs": [
    {
     "data": {
      "text/plain": [
       "-1.893872655087485"
      ]
     },
     "execution_count": 503,
     "metadata": {},
     "output_type": "execute_result"
    }
   ],
   "source": [
    "df1.at[dates[1],\"D\"]"
   ]
  },
  {
   "cell_type": "code",
   "execution_count": 513,
   "id": "57de8e7f-4d20-46bd-987d-a067e6cac597",
   "metadata": {},
   "outputs": [
    {
     "data": {
      "text/html": [
       "<div>\n",
       "<style scoped>\n",
       "    .dataframe tbody tr th:only-of-type {\n",
       "        vertical-align: middle;\n",
       "    }\n",
       "\n",
       "    .dataframe tbody tr th {\n",
       "        vertical-align: top;\n",
       "    }\n",
       "\n",
       "    .dataframe thead th {\n",
       "        text-align: right;\n",
       "    }\n",
       "</style>\n",
       "<table border=\"1\" class=\"dataframe\">\n",
       "  <thead>\n",
       "    <tr style=\"text-align: right;\">\n",
       "      <th></th>\n",
       "      <th>A</th>\n",
       "      <th>S</th>\n",
       "      <th>D</th>\n",
       "      <th>F</th>\n",
       "    </tr>\n",
       "  </thead>\n",
       "  <tbody>\n",
       "    <tr>\n",
       "      <th>2013-01-01 00:00:00</th>\n",
       "      <td>-0.963127</td>\n",
       "      <td>-2.600600</td>\n",
       "      <td>-0.325513</td>\n",
       "      <td>0.301310</td>\n",
       "    </tr>\n",
       "    <tr>\n",
       "      <th>2013-01-01 12:00:00</th>\n",
       "      <td>0.506523</td>\n",
       "      <td>0.480692</td>\n",
       "      <td>-0.660026</td>\n",
       "      <td>0.171269</td>\n",
       "    </tr>\n",
       "    <tr>\n",
       "      <th>2013-01-02 00:00:00</th>\n",
       "      <td>-1.050998</td>\n",
       "      <td>-0.412236</td>\n",
       "      <td>-0.015319</td>\n",
       "      <td>-0.883121</td>\n",
       "    </tr>\n",
       "    <tr>\n",
       "      <th>2013-01-02 12:00:00</th>\n",
       "      <td>0.165514</td>\n",
       "      <td>-0.292930</td>\n",
       "      <td>0.057909</td>\n",
       "      <td>1.459637</td>\n",
       "    </tr>\n",
       "    <tr>\n",
       "      <th>2013-01-03 00:00:00</th>\n",
       "      <td>0.873178</td>\n",
       "      <td>0.696692</td>\n",
       "      <td>-0.556565</td>\n",
       "      <td>0.580745</td>\n",
       "    </tr>\n",
       "    <tr>\n",
       "      <th>2013-01-03 12:00:00</th>\n",
       "      <td>0.776424</td>\n",
       "      <td>-1.580880</td>\n",
       "      <td>-0.473646</td>\n",
       "      <td>-2.123228</td>\n",
       "    </tr>\n",
       "    <tr>\n",
       "      <th>2013-01-04 00:00:00</th>\n",
       "      <td>1.013398</td>\n",
       "      <td>-0.255068</td>\n",
       "      <td>0.123127</td>\n",
       "      <td>-0.448592</td>\n",
       "    </tr>\n",
       "  </tbody>\n",
       "</table>\n",
       "</div>"
      ],
      "text/plain": [
       "                            A         S         D         F\n",
       "2013-01-01 00:00:00 -0.963127 -2.600600 -0.325513  0.301310\n",
       "2013-01-01 12:00:00  0.506523  0.480692 -0.660026  0.171269\n",
       "2013-01-02 00:00:00 -1.050998 -0.412236 -0.015319 -0.883121\n",
       "2013-01-02 12:00:00  0.165514 -0.292930  0.057909  1.459637\n",
       "2013-01-03 00:00:00  0.873178  0.696692 -0.556565  0.580745\n",
       "2013-01-03 12:00:00  0.776424 -1.580880 -0.473646 -2.123228\n",
       "2013-01-04 00:00:00  1.013398 -0.255068  0.123127 -0.448592"
      ]
     },
     "execution_count": 513,
     "metadata": {},
     "output_type": "execute_result"
    }
   ],
   "source": [
    "df"
   ]
  },
  {
   "cell_type": "code",
   "execution_count": 517,
   "id": "41a374ca-a3fb-4b65-8734-7cc2d7241b18",
   "metadata": {},
   "outputs": [
    {
     "name": "stdout",
     "output_type": "stream",
     "text": [
      "                            A         S         D         F\n",
      "2013-01-01 12:00:00  0.506523  0.480692 -0.660026  0.171269\n",
      "2013-01-02 12:00:00  0.165514 -0.292930  0.057909  1.459637\n",
      "2013-01-03 00:00:00  0.873178  0.696692 -0.556565  0.580745\n",
      "2013-01-03 12:00:00  0.776424 -1.580880 -0.473646 -2.123228\n",
      "2013-01-04 00:00:00  1.013398 -0.255068  0.123127 -0.448592\n"
     ]
    },
    {
     "data": {
      "text/html": [
       "<div>\n",
       "<style scoped>\n",
       "    .dataframe tbody tr th:only-of-type {\n",
       "        vertical-align: middle;\n",
       "    }\n",
       "\n",
       "    .dataframe tbody tr th {\n",
       "        vertical-align: top;\n",
       "    }\n",
       "\n",
       "    .dataframe thead th {\n",
       "        text-align: right;\n",
       "    }\n",
       "</style>\n",
       "<table border=\"1\" class=\"dataframe\">\n",
       "  <thead>\n",
       "    <tr style=\"text-align: right;\">\n",
       "      <th></th>\n",
       "      <th>A</th>\n",
       "      <th>S</th>\n",
       "      <th>D</th>\n",
       "      <th>F</th>\n",
       "    </tr>\n",
       "  </thead>\n",
       "  <tbody>\n",
       "    <tr>\n",
       "      <th>2013-01-01 00:00:00</th>\n",
       "      <td>NaN</td>\n",
       "      <td>NaN</td>\n",
       "      <td>NaN</td>\n",
       "      <td>0.301310</td>\n",
       "    </tr>\n",
       "    <tr>\n",
       "      <th>2013-01-01 12:00:00</th>\n",
       "      <td>0.506523</td>\n",
       "      <td>0.480692</td>\n",
       "      <td>NaN</td>\n",
       "      <td>0.171269</td>\n",
       "    </tr>\n",
       "    <tr>\n",
       "      <th>2013-01-02 00:00:00</th>\n",
       "      <td>NaN</td>\n",
       "      <td>NaN</td>\n",
       "      <td>NaN</td>\n",
       "      <td>NaN</td>\n",
       "    </tr>\n",
       "    <tr>\n",
       "      <th>2013-01-02 12:00:00</th>\n",
       "      <td>0.165514</td>\n",
       "      <td>NaN</td>\n",
       "      <td>0.057909</td>\n",
       "      <td>1.459637</td>\n",
       "    </tr>\n",
       "    <tr>\n",
       "      <th>2013-01-03 00:00:00</th>\n",
       "      <td>0.873178</td>\n",
       "      <td>0.696692</td>\n",
       "      <td>NaN</td>\n",
       "      <td>0.580745</td>\n",
       "    </tr>\n",
       "    <tr>\n",
       "      <th>2013-01-03 12:00:00</th>\n",
       "      <td>0.776424</td>\n",
       "      <td>NaN</td>\n",
       "      <td>NaN</td>\n",
       "      <td>NaN</td>\n",
       "    </tr>\n",
       "    <tr>\n",
       "      <th>2013-01-04 00:00:00</th>\n",
       "      <td>1.013398</td>\n",
       "      <td>NaN</td>\n",
       "      <td>0.123127</td>\n",
       "      <td>NaN</td>\n",
       "    </tr>\n",
       "  </tbody>\n",
       "</table>\n",
       "</div>"
      ],
      "text/plain": [
       "                            A         S         D         F\n",
       "2013-01-01 00:00:00       NaN       NaN       NaN  0.301310\n",
       "2013-01-01 12:00:00  0.506523  0.480692       NaN  0.171269\n",
       "2013-01-02 00:00:00       NaN       NaN       NaN       NaN\n",
       "2013-01-02 12:00:00  0.165514       NaN  0.057909  1.459637\n",
       "2013-01-03 00:00:00  0.873178  0.696692       NaN  0.580745\n",
       "2013-01-03 12:00:00  0.776424       NaN       NaN       NaN\n",
       "2013-01-04 00:00:00  1.013398       NaN  0.123127       NaN"
      ]
     },
     "execution_count": 517,
     "metadata": {},
     "output_type": "execute_result"
    }
   ],
   "source": [
    "print(df[df[\"A\"]>0])\n",
    "df[df>0]"
   ]
  },
  {
   "cell_type": "code",
   "execution_count": 549,
   "id": "d9853e1a-c893-4b99-8ff8-6a4b4b04bf39",
   "metadata": {},
   "outputs": [
    {
     "data": {
      "text/html": [
       "<div>\n",
       "<style scoped>\n",
       "    .dataframe tbody tr th:only-of-type {\n",
       "        vertical-align: middle;\n",
       "    }\n",
       "\n",
       "    .dataframe tbody tr th {\n",
       "        vertical-align: top;\n",
       "    }\n",
       "\n",
       "    .dataframe thead th {\n",
       "        text-align: right;\n",
       "    }\n",
       "</style>\n",
       "<table border=\"1\" class=\"dataframe\">\n",
       "  <thead>\n",
       "    <tr style=\"text-align: right;\">\n",
       "      <th></th>\n",
       "      <th>A</th>\n",
       "      <th>S</th>\n",
       "      <th>D</th>\n",
       "      <th>F</th>\n",
       "      <th>E</th>\n",
       "    </tr>\n",
       "  </thead>\n",
       "  <tbody>\n",
       "    <tr>\n",
       "      <th>2013-01-01 00:00:00</th>\n",
       "      <td>-0.963127</td>\n",
       "      <td>-2.600600</td>\n",
       "      <td>-0.325513</td>\n",
       "      <td>0.301310</td>\n",
       "      <td>one</td>\n",
       "    </tr>\n",
       "    <tr>\n",
       "      <th>2013-01-01 12:00:00</th>\n",
       "      <td>0.506523</td>\n",
       "      <td>0.480692</td>\n",
       "      <td>-0.660026</td>\n",
       "      <td>0.171269</td>\n",
       "      <td>two</td>\n",
       "    </tr>\n",
       "    <tr>\n",
       "      <th>2013-01-02 00:00:00</th>\n",
       "      <td>-1.050998</td>\n",
       "      <td>-0.412236</td>\n",
       "      <td>-0.015319</td>\n",
       "      <td>-0.883121</td>\n",
       "      <td>two</td>\n",
       "    </tr>\n",
       "    <tr>\n",
       "      <th>2013-01-02 12:00:00</th>\n",
       "      <td>0.165514</td>\n",
       "      <td>-0.292930</td>\n",
       "      <td>0.057909</td>\n",
       "      <td>1.459637</td>\n",
       "      <td>three</td>\n",
       "    </tr>\n",
       "    <tr>\n",
       "      <th>2013-01-03 00:00:00</th>\n",
       "      <td>0.873178</td>\n",
       "      <td>0.696692</td>\n",
       "      <td>-0.556565</td>\n",
       "      <td>0.580745</td>\n",
       "      <td>four</td>\n",
       "    </tr>\n",
       "    <tr>\n",
       "      <th>2013-01-03 12:00:00</th>\n",
       "      <td>0.776424</td>\n",
       "      <td>-1.580880</td>\n",
       "      <td>-0.473646</td>\n",
       "      <td>-2.123228</td>\n",
       "      <td>three</td>\n",
       "    </tr>\n",
       "    <tr>\n",
       "      <th>2013-01-04 00:00:00</th>\n",
       "      <td>1.013398</td>\n",
       "      <td>-0.255068</td>\n",
       "      <td>0.123127</td>\n",
       "      <td>-0.448592</td>\n",
       "      <td>five</td>\n",
       "    </tr>\n",
       "  </tbody>\n",
       "</table>\n",
       "</div>"
      ],
      "text/plain": [
       "                            A         S         D         F      E\n",
       "2013-01-01 00:00:00 -0.963127 -2.600600 -0.325513  0.301310    one\n",
       "2013-01-01 12:00:00  0.506523  0.480692 -0.660026  0.171269    two\n",
       "2013-01-02 00:00:00 -1.050998 -0.412236 -0.015319 -0.883121    two\n",
       "2013-01-02 12:00:00  0.165514 -0.292930  0.057909  1.459637  three\n",
       "2013-01-03 00:00:00  0.873178  0.696692 -0.556565  0.580745   four\n",
       "2013-01-03 12:00:00  0.776424 -1.580880 -0.473646 -2.123228  three\n",
       "2013-01-04 00:00:00  1.013398 -0.255068  0.123127 -0.448592   five"
      ]
     },
     "execution_count": 549,
     "metadata": {},
     "output_type": "execute_result"
    }
   ],
   "source": [
    "df3 = df.copy()\n",
    "df3[\"E\"] = [\"one\",\"two\",\"two\",\"three\",\"four\",\"three\",\"five\"]\n",
    "df3"
   ]
  },
  {
   "cell_type": "code",
   "execution_count": 559,
   "id": "d1daff5d-9eec-4b96-8854-410b54e93208",
   "metadata": {},
   "outputs": [
    {
     "data": {
      "text/html": [
       "<div>\n",
       "<style scoped>\n",
       "    .dataframe tbody tr th:only-of-type {\n",
       "        vertical-align: middle;\n",
       "    }\n",
       "\n",
       "    .dataframe tbody tr th {\n",
       "        vertical-align: top;\n",
       "    }\n",
       "\n",
       "    .dataframe thead th {\n",
       "        text-align: right;\n",
       "    }\n",
       "</style>\n",
       "<table border=\"1\" class=\"dataframe\">\n",
       "  <thead>\n",
       "    <tr style=\"text-align: right;\">\n",
       "      <th></th>\n",
       "      <th>A</th>\n",
       "      <th>S</th>\n",
       "      <th>D</th>\n",
       "      <th>F</th>\n",
       "      <th>E</th>\n",
       "    </tr>\n",
       "  </thead>\n",
       "  <tbody>\n",
       "    <tr>\n",
       "      <th>2013-01-01 12:00:00</th>\n",
       "      <td>0.506523</td>\n",
       "      <td>0.480692</td>\n",
       "      <td>-0.660026</td>\n",
       "      <td>0.171269</td>\n",
       "      <td>two</td>\n",
       "    </tr>\n",
       "    <tr>\n",
       "      <th>2013-01-02 00:00:00</th>\n",
       "      <td>-1.050998</td>\n",
       "      <td>-0.412236</td>\n",
       "      <td>-0.015319</td>\n",
       "      <td>-0.883121</td>\n",
       "      <td>two</td>\n",
       "    </tr>\n",
       "    <tr>\n",
       "      <th>2013-01-04 00:00:00</th>\n",
       "      <td>1.013398</td>\n",
       "      <td>-0.255068</td>\n",
       "      <td>0.123127</td>\n",
       "      <td>-0.448592</td>\n",
       "      <td>five</td>\n",
       "    </tr>\n",
       "  </tbody>\n",
       "</table>\n",
       "</div>"
      ],
      "text/plain": [
       "                            A         S         D         F     E\n",
       "2013-01-01 12:00:00  0.506523  0.480692 -0.660026  0.171269   two\n",
       "2013-01-02 00:00:00 -1.050998 -0.412236 -0.015319 -0.883121   two\n",
       "2013-01-04 00:00:00  1.013398 -0.255068  0.123127 -0.448592  five"
      ]
     },
     "execution_count": 559,
     "metadata": {},
     "output_type": "execute_result"
    }
   ],
   "source": [
    "df3[df3[\"E\"].isin([\"two\",\"five\"])]"
   ]
  },
  {
   "cell_type": "code",
   "execution_count": 575,
   "id": "7b5dee62-4cc8-455f-935c-980ee4575cbb",
   "metadata": {},
   "outputs": [
    {
     "data": {
      "text/plain": [
       "2013-01-01 00:00:00    1\n",
       "2013-01-01 12:00:00    2\n",
       "2013-01-02 00:00:00    3\n",
       "2013-01-02 12:00:00    4\n",
       "2013-01-03 00:00:00    5\n",
       "2013-01-03 12:00:00    6\n",
       "2013-01-04 00:00:00    7\n",
       "dtype: int64"
      ]
     },
     "execution_count": 575,
     "metadata": {},
     "output_type": "execute_result"
    }
   ],
   "source": [
    "s1 = pd.Series([1,2,3,4,5,6,7], index=pd.date_range(\"20130101\",\"20130104\",periods=7))\n",
    "s1"
   ]
  },
  {
   "cell_type": "code",
   "execution_count": 579,
   "id": "158df7fb-5c58-49bd-b455-724aa6900f98",
   "metadata": {},
   "outputs": [
    {
     "data": {
      "text/html": [
       "<div>\n",
       "<style scoped>\n",
       "    .dataframe tbody tr th:only-of-type {\n",
       "        vertical-align: middle;\n",
       "    }\n",
       "\n",
       "    .dataframe tbody tr th {\n",
       "        vertical-align: top;\n",
       "    }\n",
       "\n",
       "    .dataframe thead th {\n",
       "        text-align: right;\n",
       "    }\n",
       "</style>\n",
       "<table border=\"1\" class=\"dataframe\">\n",
       "  <thead>\n",
       "    <tr style=\"text-align: right;\">\n",
       "      <th></th>\n",
       "      <th>A</th>\n",
       "      <th>S</th>\n",
       "      <th>D</th>\n",
       "      <th>F</th>\n",
       "    </tr>\n",
       "  </thead>\n",
       "  <tbody>\n",
       "    <tr>\n",
       "      <th>2013-01-01 00:00:00</th>\n",
       "      <td>-0.963127</td>\n",
       "      <td>-2.600600</td>\n",
       "      <td>-0.325513</td>\n",
       "      <td>1</td>\n",
       "    </tr>\n",
       "    <tr>\n",
       "      <th>2013-01-01 12:00:00</th>\n",
       "      <td>0.506523</td>\n",
       "      <td>0.480692</td>\n",
       "      <td>-0.660026</td>\n",
       "      <td>2</td>\n",
       "    </tr>\n",
       "    <tr>\n",
       "      <th>2013-01-02 00:00:00</th>\n",
       "      <td>-1.050998</td>\n",
       "      <td>-0.412236</td>\n",
       "      <td>-0.015319</td>\n",
       "      <td>3</td>\n",
       "    </tr>\n",
       "    <tr>\n",
       "      <th>2013-01-02 12:00:00</th>\n",
       "      <td>0.165514</td>\n",
       "      <td>-0.292930</td>\n",
       "      <td>0.057909</td>\n",
       "      <td>4</td>\n",
       "    </tr>\n",
       "    <tr>\n",
       "      <th>2013-01-03 00:00:00</th>\n",
       "      <td>0.873178</td>\n",
       "      <td>0.696692</td>\n",
       "      <td>-0.556565</td>\n",
       "      <td>5</td>\n",
       "    </tr>\n",
       "    <tr>\n",
       "      <th>2013-01-03 12:00:00</th>\n",
       "      <td>0.776424</td>\n",
       "      <td>-1.580880</td>\n",
       "      <td>-0.473646</td>\n",
       "      <td>6</td>\n",
       "    </tr>\n",
       "    <tr>\n",
       "      <th>2013-01-04 00:00:00</th>\n",
       "      <td>1.013398</td>\n",
       "      <td>-0.255068</td>\n",
       "      <td>0.123127</td>\n",
       "      <td>7</td>\n",
       "    </tr>\n",
       "  </tbody>\n",
       "</table>\n",
       "</div>"
      ],
      "text/plain": [
       "                            A         S         D  F\n",
       "2013-01-01 00:00:00 -0.963127 -2.600600 -0.325513  1\n",
       "2013-01-01 12:00:00  0.506523  0.480692 -0.660026  2\n",
       "2013-01-02 00:00:00 -1.050998 -0.412236 -0.015319  3\n",
       "2013-01-02 12:00:00  0.165514 -0.292930  0.057909  4\n",
       "2013-01-03 00:00:00  0.873178  0.696692 -0.556565  5\n",
       "2013-01-03 12:00:00  0.776424 -1.580880 -0.473646  6\n",
       "2013-01-04 00:00:00  1.013398 -0.255068  0.123127  7"
      ]
     },
     "execution_count": 579,
     "metadata": {},
     "output_type": "execute_result"
    }
   ],
   "source": [
    "df[\"F\"]=s1\n",
    "df"
   ]
  },
  {
   "cell_type": "code",
   "execution_count": 585,
   "id": "4517fbd4-987d-4814-be45-d8549280bed1",
   "metadata": {},
   "outputs": [
    {
     "data": {
      "text/html": [
       "<div>\n",
       "<style scoped>\n",
       "    .dataframe tbody tr th:only-of-type {\n",
       "        vertical-align: middle;\n",
       "    }\n",
       "\n",
       "    .dataframe tbody tr th {\n",
       "        vertical-align: top;\n",
       "    }\n",
       "\n",
       "    .dataframe thead th {\n",
       "        text-align: right;\n",
       "    }\n",
       "</style>\n",
       "<table border=\"1\" class=\"dataframe\">\n",
       "  <thead>\n",
       "    <tr style=\"text-align: right;\">\n",
       "      <th></th>\n",
       "      <th>A</th>\n",
       "      <th>S</th>\n",
       "      <th>D</th>\n",
       "      <th>F</th>\n",
       "    </tr>\n",
       "  </thead>\n",
       "  <tbody>\n",
       "    <tr>\n",
       "      <th>2013-01-01 00:00:00</th>\n",
       "      <td>0.000000</td>\n",
       "      <td>-2.600600</td>\n",
       "      <td>-0.325513</td>\n",
       "      <td>0</td>\n",
       "    </tr>\n",
       "    <tr>\n",
       "      <th>2013-01-01 12:00:00</th>\n",
       "      <td>0.506523</td>\n",
       "      <td>0.480692</td>\n",
       "      <td>-0.660026</td>\n",
       "      <td>2</td>\n",
       "    </tr>\n",
       "    <tr>\n",
       "      <th>2013-01-02 00:00:00</th>\n",
       "      <td>-1.050998</td>\n",
       "      <td>-0.412236</td>\n",
       "      <td>-0.015319</td>\n",
       "      <td>3</td>\n",
       "    </tr>\n",
       "    <tr>\n",
       "      <th>2013-01-02 12:00:00</th>\n",
       "      <td>0.165514</td>\n",
       "      <td>-0.292930</td>\n",
       "      <td>0.057909</td>\n",
       "      <td>4</td>\n",
       "    </tr>\n",
       "    <tr>\n",
       "      <th>2013-01-03 00:00:00</th>\n",
       "      <td>0.873178</td>\n",
       "      <td>0.696692</td>\n",
       "      <td>-0.556565</td>\n",
       "      <td>5</td>\n",
       "    </tr>\n",
       "    <tr>\n",
       "      <th>2013-01-03 12:00:00</th>\n",
       "      <td>0.776424</td>\n",
       "      <td>-1.580880</td>\n",
       "      <td>-0.473646</td>\n",
       "      <td>6</td>\n",
       "    </tr>\n",
       "    <tr>\n",
       "      <th>2013-01-04 00:00:00</th>\n",
       "      <td>1.013398</td>\n",
       "      <td>-0.255068</td>\n",
       "      <td>0.123127</td>\n",
       "      <td>7</td>\n",
       "    </tr>\n",
       "  </tbody>\n",
       "</table>\n",
       "</div>"
      ],
      "text/plain": [
       "                            A         S         D  F\n",
       "2013-01-01 00:00:00  0.000000 -2.600600 -0.325513  0\n",
       "2013-01-01 12:00:00  0.506523  0.480692 -0.660026  2\n",
       "2013-01-02 00:00:00 -1.050998 -0.412236 -0.015319  3\n",
       "2013-01-02 12:00:00  0.165514 -0.292930  0.057909  4\n",
       "2013-01-03 00:00:00  0.873178  0.696692 -0.556565  5\n",
       "2013-01-03 12:00:00  0.776424 -1.580880 -0.473646  6\n",
       "2013-01-04 00:00:00  1.013398 -0.255068  0.123127  7"
      ]
     },
     "execution_count": 585,
     "metadata": {},
     "output_type": "execute_result"
    }
   ],
   "source": [
    "df.at[dates[0],\"F\"]=0\n",
    "df"
   ]
  },
  {
   "cell_type": "code",
   "execution_count": 605,
   "id": "7abc7c34-cea0-40dc-8691-0964284a03bf",
   "metadata": {},
   "outputs": [
    {
     "data": {
      "text/html": [
       "<div>\n",
       "<style scoped>\n",
       "    .dataframe tbody tr th:only-of-type {\n",
       "        vertical-align: middle;\n",
       "    }\n",
       "\n",
       "    .dataframe tbody tr th {\n",
       "        vertical-align: top;\n",
       "    }\n",
       "\n",
       "    .dataframe thead th {\n",
       "        text-align: right;\n",
       "    }\n",
       "</style>\n",
       "<table border=\"1\" class=\"dataframe\">\n",
       "  <thead>\n",
       "    <tr style=\"text-align: right;\">\n",
       "      <th></th>\n",
       "      <th>A</th>\n",
       "      <th>S</th>\n",
       "      <th>D</th>\n",
       "      <th>F</th>\n",
       "    </tr>\n",
       "  </thead>\n",
       "  <tbody>\n",
       "    <tr>\n",
       "      <th>2013-01-01 00:00:00</th>\n",
       "      <td>0.000000</td>\n",
       "      <td>-2.600600</td>\n",
       "      <td>0.000000</td>\n",
       "      <td>0</td>\n",
       "    </tr>\n",
       "    <tr>\n",
       "      <th>2013-01-01 12:00:00</th>\n",
       "      <td>0.506523</td>\n",
       "      <td>0.480692</td>\n",
       "      <td>-0.660026</td>\n",
       "      <td>2</td>\n",
       "    </tr>\n",
       "    <tr>\n",
       "      <th>2013-01-02 00:00:00</th>\n",
       "      <td>-1.050998</td>\n",
       "      <td>-0.412236</td>\n",
       "      <td>-0.015319</td>\n",
       "      <td>3</td>\n",
       "    </tr>\n",
       "    <tr>\n",
       "      <th>2013-01-02 12:00:00</th>\n",
       "      <td>0.165514</td>\n",
       "      <td>-0.292930</td>\n",
       "      <td>0.057909</td>\n",
       "      <td>4</td>\n",
       "    </tr>\n",
       "    <tr>\n",
       "      <th>2013-01-03 00:00:00</th>\n",
       "      <td>0.873178</td>\n",
       "      <td>0.696692</td>\n",
       "      <td>-0.556565</td>\n",
       "      <td>5</td>\n",
       "    </tr>\n",
       "    <tr>\n",
       "      <th>2013-01-03 12:00:00</th>\n",
       "      <td>0.776424</td>\n",
       "      <td>-1.580880</td>\n",
       "      <td>-0.473646</td>\n",
       "      <td>6</td>\n",
       "    </tr>\n",
       "    <tr>\n",
       "      <th>2013-01-04 00:00:00</th>\n",
       "      <td>1.013398</td>\n",
       "      <td>-0.255068</td>\n",
       "      <td>0.123127</td>\n",
       "      <td>7</td>\n",
       "    </tr>\n",
       "  </tbody>\n",
       "</table>\n",
       "</div>"
      ],
      "text/plain": [
       "                            A         S         D  F\n",
       "2013-01-01 00:00:00  0.000000 -2.600600  0.000000  0\n",
       "2013-01-01 12:00:00  0.506523  0.480692 -0.660026  2\n",
       "2013-01-02 00:00:00 -1.050998 -0.412236 -0.015319  3\n",
       "2013-01-02 12:00:00  0.165514 -0.292930  0.057909  4\n",
       "2013-01-03 00:00:00  0.873178  0.696692 -0.556565  5\n",
       "2013-01-03 12:00:00  0.776424 -1.580880 -0.473646  6\n",
       "2013-01-04 00:00:00  1.013398 -0.255068  0.123127  7"
      ]
     },
     "execution_count": 605,
     "metadata": {},
     "output_type": "execute_result"
    }
   ],
   "source": [
    "df.iat[0,2]=0\n",
    "df"
   ]
  },
  {
   "cell_type": "code",
   "execution_count": 621,
   "id": "764da020-4077-4b7f-a46a-0be8932bb029",
   "metadata": {},
   "outputs": [
    {
     "data": {
      "text/html": [
       "<div>\n",
       "<style scoped>\n",
       "    .dataframe tbody tr th:only-of-type {\n",
       "        vertical-align: middle;\n",
       "    }\n",
       "\n",
       "    .dataframe tbody tr th {\n",
       "        vertical-align: top;\n",
       "    }\n",
       "\n",
       "    .dataframe thead th {\n",
       "        text-align: right;\n",
       "    }\n",
       "</style>\n",
       "<table border=\"1\" class=\"dataframe\">\n",
       "  <thead>\n",
       "    <tr style=\"text-align: right;\">\n",
       "      <th></th>\n",
       "      <th>A</th>\n",
       "      <th>S</th>\n",
       "      <th>D</th>\n",
       "      <th>F</th>\n",
       "    </tr>\n",
       "  </thead>\n",
       "  <tbody>\n",
       "    <tr>\n",
       "      <th>2013-01-01 00:00:00</th>\n",
       "      <td>0.000000</td>\n",
       "      <td>-2.600600</td>\n",
       "      <td>5.0</td>\n",
       "      <td>0</td>\n",
       "    </tr>\n",
       "    <tr>\n",
       "      <th>2013-01-01 12:00:00</th>\n",
       "      <td>0.506523</td>\n",
       "      <td>0.480692</td>\n",
       "      <td>5.0</td>\n",
       "      <td>2</td>\n",
       "    </tr>\n",
       "    <tr>\n",
       "      <th>2013-01-02 00:00:00</th>\n",
       "      <td>-1.050998</td>\n",
       "      <td>-0.412236</td>\n",
       "      <td>5.0</td>\n",
       "      <td>3</td>\n",
       "    </tr>\n",
       "    <tr>\n",
       "      <th>2013-01-02 12:00:00</th>\n",
       "      <td>0.165514</td>\n",
       "      <td>-0.292930</td>\n",
       "      <td>5.0</td>\n",
       "      <td>4</td>\n",
       "    </tr>\n",
       "    <tr>\n",
       "      <th>2013-01-03 00:00:00</th>\n",
       "      <td>0.873178</td>\n",
       "      <td>0.696692</td>\n",
       "      <td>5.0</td>\n",
       "      <td>5</td>\n",
       "    </tr>\n",
       "    <tr>\n",
       "      <th>2013-01-03 12:00:00</th>\n",
       "      <td>0.776424</td>\n",
       "      <td>-1.580880</td>\n",
       "      <td>5.0</td>\n",
       "      <td>6</td>\n",
       "    </tr>\n",
       "    <tr>\n",
       "      <th>2013-01-04 00:00:00</th>\n",
       "      <td>1.013398</td>\n",
       "      <td>-0.255068</td>\n",
       "      <td>5.0</td>\n",
       "      <td>7</td>\n",
       "    </tr>\n",
       "  </tbody>\n",
       "</table>\n",
       "</div>"
      ],
      "text/plain": [
       "                            A         S    D  F\n",
       "2013-01-01 00:00:00  0.000000 -2.600600  5.0  0\n",
       "2013-01-01 12:00:00  0.506523  0.480692  5.0  2\n",
       "2013-01-02 00:00:00 -1.050998 -0.412236  5.0  3\n",
       "2013-01-02 12:00:00  0.165514 -0.292930  5.0  4\n",
       "2013-01-03 00:00:00  0.873178  0.696692  5.0  5\n",
       "2013-01-03 12:00:00  0.776424 -1.580880  5.0  6\n",
       "2013-01-04 00:00:00  1.013398 -0.255068  5.0  7"
      ]
     },
     "execution_count": 621,
     "metadata": {},
     "output_type": "execute_result"
    }
   ],
   "source": [
    "df.loc[:, \"D\"] = np.array([5]*len(df))\n",
    "df"
   ]
  },
  {
   "cell_type": "code",
   "execution_count": 707,
   "id": "fb51bb50-9d4c-47c9-a9a6-4b6f80c5157f",
   "metadata": {},
   "outputs": [],
   "source": [
    "df.iloc[0,-2] = None"
   ]
  },
  {
   "cell_type": "code",
   "execution_count": 713,
   "id": "bc4edca2-4261-4109-ba07-297a2c0e2ff8",
   "metadata": {},
   "outputs": [
    {
     "data": {
      "text/html": [
       "<div>\n",
       "<style scoped>\n",
       "    .dataframe tbody tr th:only-of-type {\n",
       "        vertical-align: middle;\n",
       "    }\n",
       "\n",
       "    .dataframe tbody tr th {\n",
       "        vertical-align: top;\n",
       "    }\n",
       "\n",
       "    .dataframe thead th {\n",
       "        text-align: right;\n",
       "    }\n",
       "</style>\n",
       "<table border=\"1\" class=\"dataframe\">\n",
       "  <thead>\n",
       "    <tr style=\"text-align: right;\">\n",
       "      <th></th>\n",
       "      <th>A</th>\n",
       "      <th>S</th>\n",
       "      <th>D</th>\n",
       "      <th>F</th>\n",
       "    </tr>\n",
       "  </thead>\n",
       "  <tbody>\n",
       "    <tr>\n",
       "      <th>2013-01-01 00:00:00</th>\n",
       "      <td>0.000000</td>\n",
       "      <td>7.000000</td>\n",
       "      <td>NaN</td>\n",
       "      <td>0</td>\n",
       "    </tr>\n",
       "    <tr>\n",
       "      <th>2013-01-01 12:00:00</th>\n",
       "      <td>0.506523</td>\n",
       "      <td>0.480692</td>\n",
       "      <td>5.0</td>\n",
       "      <td>2</td>\n",
       "    </tr>\n",
       "    <tr>\n",
       "      <th>2013-01-02 00:00:00</th>\n",
       "      <td>-1.050998</td>\n",
       "      <td>-0.412236</td>\n",
       "      <td>5.0</td>\n",
       "      <td>3</td>\n",
       "    </tr>\n",
       "    <tr>\n",
       "      <th>2013-01-02 12:00:00</th>\n",
       "      <td>0.165514</td>\n",
       "      <td>-0.292930</td>\n",
       "      <td>5.0</td>\n",
       "      <td>4</td>\n",
       "    </tr>\n",
       "    <tr>\n",
       "      <th>2013-01-03 00:00:00</th>\n",
       "      <td>0.873178</td>\n",
       "      <td>0.696692</td>\n",
       "      <td>5.0</td>\n",
       "      <td>5</td>\n",
       "    </tr>\n",
       "    <tr>\n",
       "      <th>2013-01-03 12:00:00</th>\n",
       "      <td>0.776424</td>\n",
       "      <td>-1.580880</td>\n",
       "      <td>5.0</td>\n",
       "      <td>6</td>\n",
       "    </tr>\n",
       "    <tr>\n",
       "      <th>2013-01-04 00:00:00</th>\n",
       "      <td>1.013398</td>\n",
       "      <td>-0.255068</td>\n",
       "      <td>5.0</td>\n",
       "      <td>7</td>\n",
       "    </tr>\n",
       "  </tbody>\n",
       "</table>\n",
       "</div>"
      ],
      "text/plain": [
       "                            A         S    D  F\n",
       "2013-01-01 00:00:00  0.000000  7.000000  NaN  0\n",
       "2013-01-01 12:00:00  0.506523  0.480692  5.0  2\n",
       "2013-01-02 00:00:00 -1.050998 -0.412236  5.0  3\n",
       "2013-01-02 12:00:00  0.165514 -0.292930  5.0  4\n",
       "2013-01-03 00:00:00  0.873178  0.696692  5.0  5\n",
       "2013-01-03 12:00:00  0.776424 -1.580880  5.0  6\n",
       "2013-01-04 00:00:00  1.013398 -0.255068  5.0  7"
      ]
     },
     "execution_count": 713,
     "metadata": {},
     "output_type": "execute_result"
    }
   ],
   "source": [
    "df"
   ]
  },
  {
   "cell_type": "code",
   "execution_count": 715,
   "id": "607fda78-9d8f-430b-bf8a-892f7c1a60bd",
   "metadata": {},
   "outputs": [
    {
     "data": {
      "text/html": [
       "<div>\n",
       "<style scoped>\n",
       "    .dataframe tbody tr th:only-of-type {\n",
       "        vertical-align: middle;\n",
       "    }\n",
       "\n",
       "    .dataframe tbody tr th {\n",
       "        vertical-align: top;\n",
       "    }\n",
       "\n",
       "    .dataframe thead th {\n",
       "        text-align: right;\n",
       "    }\n",
       "</style>\n",
       "<table border=\"1\" class=\"dataframe\">\n",
       "  <thead>\n",
       "    <tr style=\"text-align: right;\">\n",
       "      <th></th>\n",
       "      <th>A</th>\n",
       "      <th>S</th>\n",
       "      <th>D</th>\n",
       "      <th>F</th>\n",
       "    </tr>\n",
       "  </thead>\n",
       "  <tbody>\n",
       "    <tr>\n",
       "      <th>2013-01-01 12:00:00</th>\n",
       "      <td>0.506523</td>\n",
       "      <td>0.480692</td>\n",
       "      <td>5.0</td>\n",
       "      <td>2</td>\n",
       "    </tr>\n",
       "    <tr>\n",
       "      <th>2013-01-02 00:00:00</th>\n",
       "      <td>-1.050998</td>\n",
       "      <td>-0.412236</td>\n",
       "      <td>5.0</td>\n",
       "      <td>3</td>\n",
       "    </tr>\n",
       "    <tr>\n",
       "      <th>2013-01-02 12:00:00</th>\n",
       "      <td>0.165514</td>\n",
       "      <td>-0.292930</td>\n",
       "      <td>5.0</td>\n",
       "      <td>4</td>\n",
       "    </tr>\n",
       "    <tr>\n",
       "      <th>2013-01-03 00:00:00</th>\n",
       "      <td>0.873178</td>\n",
       "      <td>0.696692</td>\n",
       "      <td>5.0</td>\n",
       "      <td>5</td>\n",
       "    </tr>\n",
       "    <tr>\n",
       "      <th>2013-01-03 12:00:00</th>\n",
       "      <td>0.776424</td>\n",
       "      <td>-1.580880</td>\n",
       "      <td>5.0</td>\n",
       "      <td>6</td>\n",
       "    </tr>\n",
       "    <tr>\n",
       "      <th>2013-01-04 00:00:00</th>\n",
       "      <td>1.013398</td>\n",
       "      <td>-0.255068</td>\n",
       "      <td>5.0</td>\n",
       "      <td>7</td>\n",
       "    </tr>\n",
       "  </tbody>\n",
       "</table>\n",
       "</div>"
      ],
      "text/plain": [
       "                            A         S    D  F\n",
       "2013-01-01 12:00:00  0.506523  0.480692  5.0  2\n",
       "2013-01-02 00:00:00 -1.050998 -0.412236  5.0  3\n",
       "2013-01-02 12:00:00  0.165514 -0.292930  5.0  4\n",
       "2013-01-03 00:00:00  0.873178  0.696692  5.0  5\n",
       "2013-01-03 12:00:00  0.776424 -1.580880  5.0  6\n",
       "2013-01-04 00:00:00  1.013398 -0.255068  5.0  7"
      ]
     },
     "execution_count": 715,
     "metadata": {},
     "output_type": "execute_result"
    }
   ],
   "source": [
    "df.dropna(how=\"any\")"
   ]
  },
  {
   "cell_type": "code",
   "execution_count": 721,
   "id": "5139a40d-1cd8-4bcc-bb11-4d3b6ec5b0be",
   "metadata": {},
   "outputs": [
    {
     "data": {
      "text/html": [
       "<div>\n",
       "<style scoped>\n",
       "    .dataframe tbody tr th:only-of-type {\n",
       "        vertical-align: middle;\n",
       "    }\n",
       "\n",
       "    .dataframe tbody tr th {\n",
       "        vertical-align: top;\n",
       "    }\n",
       "\n",
       "    .dataframe thead th {\n",
       "        text-align: right;\n",
       "    }\n",
       "</style>\n",
       "<table border=\"1\" class=\"dataframe\">\n",
       "  <thead>\n",
       "    <tr style=\"text-align: right;\">\n",
       "      <th></th>\n",
       "      <th>A</th>\n",
       "      <th>S</th>\n",
       "      <th>D</th>\n",
       "      <th>F</th>\n",
       "    </tr>\n",
       "  </thead>\n",
       "  <tbody>\n",
       "    <tr>\n",
       "      <th>2013-01-01 00:00:00</th>\n",
       "      <td>0.000000</td>\n",
       "      <td>7.000000</td>\n",
       "      <td>700.0</td>\n",
       "      <td>0</td>\n",
       "    </tr>\n",
       "    <tr>\n",
       "      <th>2013-01-01 12:00:00</th>\n",
       "      <td>0.506523</td>\n",
       "      <td>0.480692</td>\n",
       "      <td>5.0</td>\n",
       "      <td>2</td>\n",
       "    </tr>\n",
       "    <tr>\n",
       "      <th>2013-01-02 00:00:00</th>\n",
       "      <td>-1.050998</td>\n",
       "      <td>-0.412236</td>\n",
       "      <td>5.0</td>\n",
       "      <td>3</td>\n",
       "    </tr>\n",
       "    <tr>\n",
       "      <th>2013-01-02 12:00:00</th>\n",
       "      <td>0.165514</td>\n",
       "      <td>-0.292930</td>\n",
       "      <td>5.0</td>\n",
       "      <td>4</td>\n",
       "    </tr>\n",
       "    <tr>\n",
       "      <th>2013-01-03 00:00:00</th>\n",
       "      <td>0.873178</td>\n",
       "      <td>0.696692</td>\n",
       "      <td>5.0</td>\n",
       "      <td>5</td>\n",
       "    </tr>\n",
       "    <tr>\n",
       "      <th>2013-01-03 12:00:00</th>\n",
       "      <td>0.776424</td>\n",
       "      <td>-1.580880</td>\n",
       "      <td>5.0</td>\n",
       "      <td>6</td>\n",
       "    </tr>\n",
       "    <tr>\n",
       "      <th>2013-01-04 00:00:00</th>\n",
       "      <td>1.013398</td>\n",
       "      <td>-0.255068</td>\n",
       "      <td>5.0</td>\n",
       "      <td>7</td>\n",
       "    </tr>\n",
       "  </tbody>\n",
       "</table>\n",
       "</div>"
      ],
      "text/plain": [
       "                            A         S      D  F\n",
       "2013-01-01 00:00:00  0.000000  7.000000  700.0  0\n",
       "2013-01-01 12:00:00  0.506523  0.480692    5.0  2\n",
       "2013-01-02 00:00:00 -1.050998 -0.412236    5.0  3\n",
       "2013-01-02 12:00:00  0.165514 -0.292930    5.0  4\n",
       "2013-01-03 00:00:00  0.873178  0.696692    5.0  5\n",
       "2013-01-03 12:00:00  0.776424 -1.580880    5.0  6\n",
       "2013-01-04 00:00:00  1.013398 -0.255068    5.0  7"
      ]
     },
     "execution_count": 721,
     "metadata": {},
     "output_type": "execute_result"
    }
   ],
   "source": [
    "df.fillna(value=700)"
   ]
  },
  {
   "cell_type": "code",
   "execution_count": 723,
   "id": "fad2dc4f-4900-4626-95ea-00aee0629a2b",
   "metadata": {},
   "outputs": [
    {
     "data": {
      "text/html": [
       "<div>\n",
       "<style scoped>\n",
       "    .dataframe tbody tr th:only-of-type {\n",
       "        vertical-align: middle;\n",
       "    }\n",
       "\n",
       "    .dataframe tbody tr th {\n",
       "        vertical-align: top;\n",
       "    }\n",
       "\n",
       "    .dataframe thead th {\n",
       "        text-align: right;\n",
       "    }\n",
       "</style>\n",
       "<table border=\"1\" class=\"dataframe\">\n",
       "  <thead>\n",
       "    <tr style=\"text-align: right;\">\n",
       "      <th></th>\n",
       "      <th>A</th>\n",
       "      <th>S</th>\n",
       "      <th>D</th>\n",
       "      <th>F</th>\n",
       "    </tr>\n",
       "  </thead>\n",
       "  <tbody>\n",
       "    <tr>\n",
       "      <th>2013-01-01 00:00:00</th>\n",
       "      <td>False</td>\n",
       "      <td>False</td>\n",
       "      <td>True</td>\n",
       "      <td>False</td>\n",
       "    </tr>\n",
       "    <tr>\n",
       "      <th>2013-01-01 12:00:00</th>\n",
       "      <td>False</td>\n",
       "      <td>False</td>\n",
       "      <td>False</td>\n",
       "      <td>False</td>\n",
       "    </tr>\n",
       "    <tr>\n",
       "      <th>2013-01-02 00:00:00</th>\n",
       "      <td>False</td>\n",
       "      <td>False</td>\n",
       "      <td>False</td>\n",
       "      <td>False</td>\n",
       "    </tr>\n",
       "    <tr>\n",
       "      <th>2013-01-02 12:00:00</th>\n",
       "      <td>False</td>\n",
       "      <td>False</td>\n",
       "      <td>False</td>\n",
       "      <td>False</td>\n",
       "    </tr>\n",
       "    <tr>\n",
       "      <th>2013-01-03 00:00:00</th>\n",
       "      <td>False</td>\n",
       "      <td>False</td>\n",
       "      <td>False</td>\n",
       "      <td>False</td>\n",
       "    </tr>\n",
       "    <tr>\n",
       "      <th>2013-01-03 12:00:00</th>\n",
       "      <td>False</td>\n",
       "      <td>False</td>\n",
       "      <td>False</td>\n",
       "      <td>False</td>\n",
       "    </tr>\n",
       "    <tr>\n",
       "      <th>2013-01-04 00:00:00</th>\n",
       "      <td>False</td>\n",
       "      <td>False</td>\n",
       "      <td>False</td>\n",
       "      <td>False</td>\n",
       "    </tr>\n",
       "  </tbody>\n",
       "</table>\n",
       "</div>"
      ],
      "text/plain": [
       "                         A      S      D      F\n",
       "2013-01-01 00:00:00  False  False   True  False\n",
       "2013-01-01 12:00:00  False  False  False  False\n",
       "2013-01-02 00:00:00  False  False  False  False\n",
       "2013-01-02 12:00:00  False  False  False  False\n",
       "2013-01-03 00:00:00  False  False  False  False\n",
       "2013-01-03 12:00:00  False  False  False  False\n",
       "2013-01-04 00:00:00  False  False  False  False"
      ]
     },
     "execution_count": 723,
     "metadata": {},
     "output_type": "execute_result"
    }
   ],
   "source": [
    "pd.isna(df)"
   ]
  },
  {
   "cell_type": "code",
   "execution_count": 725,
   "id": "8538a53a-d9d2-46a4-a2bd-c31e7a6c6fc9",
   "metadata": {},
   "outputs": [
    {
     "data": {
      "text/plain": [
       "A    0.326291\n",
       "S    0.805181\n",
       "D    5.000000\n",
       "F    3.857143\n",
       "dtype: float64"
      ]
     },
     "execution_count": 725,
     "metadata": {},
     "output_type": "execute_result"
    }
   ],
   "source": [
    "df.mean()"
   ]
  },
  {
   "cell_type": "code",
   "execution_count": 727,
   "id": "4b814c50-350e-4a6e-8c84-3351d219afa6",
   "metadata": {},
   "outputs": [
    {
     "data": {
      "text/plain": [
       "2013-01-01 00:00:00    2.333333\n",
       "2013-01-01 12:00:00    1.996804\n",
       "2013-01-02 00:00:00    1.634191\n",
       "2013-01-02 12:00:00    2.218146\n",
       "2013-01-03 00:00:00    2.892467\n",
       "2013-01-03 12:00:00    2.548886\n",
       "2013-01-04 00:00:00    3.189583\n",
       "dtype: float64"
      ]
     },
     "execution_count": 727,
     "metadata": {},
     "output_type": "execute_result"
    }
   ],
   "source": [
    "df.mean(axis=1)"
   ]
  },
  {
   "cell_type": "code",
   "execution_count": 747,
   "id": "8a6a9469-b257-4e9f-bb70-2960d2f19247",
   "metadata": {},
   "outputs": [
    {
     "data": {
      "text/plain": [
       "2013-01-01 00:00:00    NaN\n",
       "2013-01-01 12:00:00    NaN\n",
       "2013-01-02 00:00:00    1.0\n",
       "2013-01-02 12:00:00    3.0\n",
       "2013-01-03 00:00:00    5.0\n",
       "2013-01-03 12:00:00    NaN\n",
       "2013-01-04 00:00:00    6.0\n",
       "dtype: float64"
      ]
     },
     "execution_count": 747,
     "metadata": {},
     "output_type": "execute_result"
    }
   ],
   "source": [
    "s = pd.Series([1,3,5,np.nan,6,np.nan,8],index=dates).shift(2)\n",
    "s"
   ]
  },
  {
   "cell_type": "code",
   "execution_count": 753,
   "id": "ed40ec17-0fd4-43c5-9e99-6a30fa34c071",
   "metadata": {},
   "outputs": [
    {
     "data": {
      "text/html": [
       "<div>\n",
       "<style scoped>\n",
       "    .dataframe tbody tr th:only-of-type {\n",
       "        vertical-align: middle;\n",
       "    }\n",
       "\n",
       "    .dataframe tbody tr th {\n",
       "        vertical-align: top;\n",
       "    }\n",
       "\n",
       "    .dataframe thead th {\n",
       "        text-align: right;\n",
       "    }\n",
       "</style>\n",
       "<table border=\"1\" class=\"dataframe\">\n",
       "  <thead>\n",
       "    <tr style=\"text-align: right;\">\n",
       "      <th></th>\n",
       "      <th>A</th>\n",
       "      <th>S</th>\n",
       "      <th>D</th>\n",
       "      <th>F</th>\n",
       "    </tr>\n",
       "  </thead>\n",
       "  <tbody>\n",
       "    <tr>\n",
       "      <th>2013-01-01 00:00:00</th>\n",
       "      <td>NaN</td>\n",
       "      <td>NaN</td>\n",
       "      <td>NaN</td>\n",
       "      <td>NaN</td>\n",
       "    </tr>\n",
       "    <tr>\n",
       "      <th>2013-01-01 12:00:00</th>\n",
       "      <td>NaN</td>\n",
       "      <td>NaN</td>\n",
       "      <td>NaN</td>\n",
       "      <td>NaN</td>\n",
       "    </tr>\n",
       "    <tr>\n",
       "      <th>2013-01-02 00:00:00</th>\n",
       "      <td>-2.050998</td>\n",
       "      <td>-1.412236</td>\n",
       "      <td>4.0</td>\n",
       "      <td>2.0</td>\n",
       "    </tr>\n",
       "    <tr>\n",
       "      <th>2013-01-02 12:00:00</th>\n",
       "      <td>-2.834486</td>\n",
       "      <td>-3.292930</td>\n",
       "      <td>2.0</td>\n",
       "      <td>1.0</td>\n",
       "    </tr>\n",
       "    <tr>\n",
       "      <th>2013-01-03 00:00:00</th>\n",
       "      <td>-4.126822</td>\n",
       "      <td>-4.303308</td>\n",
       "      <td>0.0</td>\n",
       "      <td>0.0</td>\n",
       "    </tr>\n",
       "    <tr>\n",
       "      <th>2013-01-03 12:00:00</th>\n",
       "      <td>NaN</td>\n",
       "      <td>NaN</td>\n",
       "      <td>NaN</td>\n",
       "      <td>NaN</td>\n",
       "    </tr>\n",
       "    <tr>\n",
       "      <th>2013-01-04 00:00:00</th>\n",
       "      <td>-4.986602</td>\n",
       "      <td>-6.255068</td>\n",
       "      <td>-1.0</td>\n",
       "      <td>1.0</td>\n",
       "    </tr>\n",
       "  </tbody>\n",
       "</table>\n",
       "</div>"
      ],
      "text/plain": [
       "                            A         S    D    F\n",
       "2013-01-01 00:00:00       NaN       NaN  NaN  NaN\n",
       "2013-01-01 12:00:00       NaN       NaN  NaN  NaN\n",
       "2013-01-02 00:00:00 -2.050998 -1.412236  4.0  2.0\n",
       "2013-01-02 12:00:00 -2.834486 -3.292930  2.0  1.0\n",
       "2013-01-03 00:00:00 -4.126822 -4.303308  0.0  0.0\n",
       "2013-01-03 12:00:00       NaN       NaN  NaN  NaN\n",
       "2013-01-04 00:00:00 -4.986602 -6.255068 -1.0  1.0"
      ]
     },
     "execution_count": 753,
     "metadata": {},
     "output_type": "execute_result"
    }
   ],
   "source": [
    "df.sub(s,axis=0)"
   ]
  },
  {
   "cell_type": "code",
   "execution_count": 769,
   "id": "8380f739-72fa-4a21-a64e-144a32c0357d",
   "metadata": {},
   "outputs": [
    {
     "data": {
      "text/plain": [
       "A     1.827231\n",
       "S     4.509016\n",
       "D    28.000000\n",
       "F    21.600000\n",
       "dtype: float64"
      ]
     },
     "execution_count": 769,
     "metadata": {},
     "output_type": "execute_result"
    }
   ],
   "source": [
    "df.agg(lambda x: np.mean(x)*5.6,axis=0)"
   ]
  },
  {
   "cell_type": "code",
   "execution_count": 773,
   "id": "9561b96d-e08a-4b6d-9599-6aa192d5de63",
   "metadata": {},
   "outputs": [
    {
     "data": {
      "text/html": [
       "<div>\n",
       "<style scoped>\n",
       "    .dataframe tbody tr th:only-of-type {\n",
       "        vertical-align: middle;\n",
       "    }\n",
       "\n",
       "    .dataframe tbody tr th {\n",
       "        vertical-align: top;\n",
       "    }\n",
       "\n",
       "    .dataframe thead th {\n",
       "        text-align: right;\n",
       "    }\n",
       "</style>\n",
       "<table border=\"1\" class=\"dataframe\">\n",
       "  <thead>\n",
       "    <tr style=\"text-align: right;\">\n",
       "      <th></th>\n",
       "      <th>A</th>\n",
       "      <th>S</th>\n",
       "      <th>D</th>\n",
       "      <th>F</th>\n",
       "    </tr>\n",
       "  </thead>\n",
       "  <tbody>\n",
       "    <tr>\n",
       "      <th>2013-01-01 00:00:00</th>\n",
       "      <td>0.000000</td>\n",
       "      <td>49.000000</td>\n",
       "      <td>NaN</td>\n",
       "      <td>0</td>\n",
       "    </tr>\n",
       "    <tr>\n",
       "      <th>2013-01-01 12:00:00</th>\n",
       "      <td>3.545664</td>\n",
       "      <td>3.364844</td>\n",
       "      <td>35.0</td>\n",
       "      <td>14</td>\n",
       "    </tr>\n",
       "    <tr>\n",
       "      <th>2013-01-02 00:00:00</th>\n",
       "      <td>-7.356987</td>\n",
       "      <td>-2.885654</td>\n",
       "      <td>35.0</td>\n",
       "      <td>21</td>\n",
       "    </tr>\n",
       "    <tr>\n",
       "      <th>2013-01-02 12:00:00</th>\n",
       "      <td>1.158596</td>\n",
       "      <td>-2.050508</td>\n",
       "      <td>35.0</td>\n",
       "      <td>28</td>\n",
       "    </tr>\n",
       "    <tr>\n",
       "      <th>2013-01-03 00:00:00</th>\n",
       "      <td>6.112245</td>\n",
       "      <td>4.876843</td>\n",
       "      <td>35.0</td>\n",
       "      <td>35</td>\n",
       "    </tr>\n",
       "    <tr>\n",
       "      <th>2013-01-03 12:00:00</th>\n",
       "      <td>5.434968</td>\n",
       "      <td>-11.066162</td>\n",
       "      <td>35.0</td>\n",
       "      <td>42</td>\n",
       "    </tr>\n",
       "    <tr>\n",
       "      <th>2013-01-04 00:00:00</th>\n",
       "      <td>7.093789</td>\n",
       "      <td>-1.785473</td>\n",
       "      <td>35.0</td>\n",
       "      <td>49</td>\n",
       "    </tr>\n",
       "  </tbody>\n",
       "</table>\n",
       "</div>"
      ],
      "text/plain": [
       "                            A          S     D   F\n",
       "2013-01-01 00:00:00  0.000000  49.000000   NaN   0\n",
       "2013-01-01 12:00:00  3.545664   3.364844  35.0  14\n",
       "2013-01-02 00:00:00 -7.356987  -2.885654  35.0  21\n",
       "2013-01-02 12:00:00  1.158596  -2.050508  35.0  28\n",
       "2013-01-03 00:00:00  6.112245   4.876843  35.0  35\n",
       "2013-01-03 12:00:00  5.434968 -11.066162  35.0  42\n",
       "2013-01-04 00:00:00  7.093789  -1.785473  35.0  49"
      ]
     },
     "execution_count": 773,
     "metadata": {},
     "output_type": "execute_result"
    }
   ],
   "source": [
    "df.transform(lambda x: x*7)"
   ]
  },
  {
   "cell_type": "code",
   "execution_count": 775,
   "id": "b3c52812-ab8f-424c-9313-46a38c2978c5",
   "metadata": {},
   "outputs": [
    {
     "data": {
      "text/plain": [
       "0    2\n",
       "1    2\n",
       "2    4\n",
       "3    4\n",
       "4    1\n",
       "5    6\n",
       "6    3\n",
       "7    1\n",
       "8    1\n",
       "9    3\n",
       "dtype: int32"
      ]
     },
     "execution_count": 775,
     "metadata": {},
     "output_type": "execute_result"
    }
   ],
   "source": [
    "s = pd.Series(np.random.randint(0,7,size=10))\n",
    "s"
   ]
  },
  {
   "cell_type": "code",
   "execution_count": 785,
   "id": "f9768d7f-b7b3-4be2-bbe2-8673503f9d8a",
   "metadata": {},
   "outputs": [
    {
     "data": {
      "text/plain": [
       "1    3\n",
       "2    2\n",
       "4    2\n",
       "3    2\n",
       "6    1\n",
       "Name: count, dtype: int64"
      ]
     },
     "execution_count": 785,
     "metadata": {},
     "output_type": "execute_result"
    }
   ],
   "source": [
    "s.value_counts()"
   ]
  },
  {
   "cell_type": "code",
   "execution_count": 831,
   "id": "dbc8713e-375f-4e54-a296-9a253b643335",
   "metadata": {},
   "outputs": [
    {
     "data": {
      "text/html": [
       "<div>\n",
       "<style scoped>\n",
       "    .dataframe tbody tr th:only-of-type {\n",
       "        vertical-align: middle;\n",
       "    }\n",
       "\n",
       "    .dataframe tbody tr th {\n",
       "        vertical-align: top;\n",
       "    }\n",
       "\n",
       "    .dataframe thead th {\n",
       "        text-align: right;\n",
       "    }\n",
       "</style>\n",
       "<table border=\"1\" class=\"dataframe\">\n",
       "  <thead>\n",
       "    <tr style=\"text-align: right;\">\n",
       "      <th></th>\n",
       "      <th>0</th>\n",
       "      <th>1</th>\n",
       "      <th>2</th>\n",
       "      <th>3</th>\n",
       "    </tr>\n",
       "  </thead>\n",
       "  <tbody>\n",
       "    <tr>\n",
       "      <th>0</th>\n",
       "      <td>0.212671</td>\n",
       "      <td>1.609676</td>\n",
       "      <td>1.078607</td>\n",
       "      <td>0.737187</td>\n",
       "    </tr>\n",
       "    <tr>\n",
       "      <th>1</th>\n",
       "      <td>-0.098330</td>\n",
       "      <td>-1.500798</td>\n",
       "      <td>2.503407</td>\n",
       "      <td>-0.984877</td>\n",
       "    </tr>\n",
       "    <tr>\n",
       "      <th>2</th>\n",
       "      <td>0.118983</td>\n",
       "      <td>0.575819</td>\n",
       "      <td>0.613557</td>\n",
       "      <td>-1.923207</td>\n",
       "    </tr>\n",
       "    <tr>\n",
       "      <th>3</th>\n",
       "      <td>0.349525</td>\n",
       "      <td>1.602295</td>\n",
       "      <td>1.128398</td>\n",
       "      <td>0.362372</td>\n",
       "    </tr>\n",
       "    <tr>\n",
       "      <th>4</th>\n",
       "      <td>1.508365</td>\n",
       "      <td>1.449759</td>\n",
       "      <td>1.457351</td>\n",
       "      <td>0.670466</td>\n",
       "    </tr>\n",
       "    <tr>\n",
       "      <th>5</th>\n",
       "      <td>0.239841</td>\n",
       "      <td>-0.709651</td>\n",
       "      <td>1.153606</td>\n",
       "      <td>0.669778</td>\n",
       "    </tr>\n",
       "    <tr>\n",
       "      <th>6</th>\n",
       "      <td>1.303057</td>\n",
       "      <td>-0.493099</td>\n",
       "      <td>0.858372</td>\n",
       "      <td>1.242459</td>\n",
       "    </tr>\n",
       "    <tr>\n",
       "      <th>7</th>\n",
       "      <td>1.093599</td>\n",
       "      <td>0.734206</td>\n",
       "      <td>-0.119288</td>\n",
       "      <td>-1.215364</td>\n",
       "    </tr>\n",
       "    <tr>\n",
       "      <th>8</th>\n",
       "      <td>-0.399347</td>\n",
       "      <td>0.063485</td>\n",
       "      <td>-0.087460</td>\n",
       "      <td>2.591038</td>\n",
       "    </tr>\n",
       "    <tr>\n",
       "      <th>9</th>\n",
       "      <td>0.223431</td>\n",
       "      <td>1.565339</td>\n",
       "      <td>0.889591</td>\n",
       "      <td>-0.552447</td>\n",
       "    </tr>\n",
       "  </tbody>\n",
       "</table>\n",
       "</div>"
      ],
      "text/plain": [
       "          0         1         2         3\n",
       "0  0.212671  1.609676  1.078607  0.737187\n",
       "1 -0.098330 -1.500798  2.503407 -0.984877\n",
       "2  0.118983  0.575819  0.613557 -1.923207\n",
       "3  0.349525  1.602295  1.128398  0.362372\n",
       "4  1.508365  1.449759  1.457351  0.670466\n",
       "5  0.239841 -0.709651  1.153606  0.669778\n",
       "6  1.303057 -0.493099  0.858372  1.242459\n",
       "7  1.093599  0.734206 -0.119288 -1.215364\n",
       "8 -0.399347  0.063485 -0.087460  2.591038\n",
       "9  0.223431  1.565339  0.889591 -0.552447"
      ]
     },
     "execution_count": 831,
     "metadata": {},
     "output_type": "execute_result"
    }
   ],
   "source": [
    "df = pd.DataFrame(np.random.randn(10,4))\n",
    "df"
   ]
  },
  {
   "cell_type": "code",
   "execution_count": 833,
   "id": "e4914136-3293-447b-a347-d11b43eeb769",
   "metadata": {},
   "outputs": [
    {
     "data": {
      "text/html": [
       "<div>\n",
       "<style scoped>\n",
       "    .dataframe tbody tr th:only-of-type {\n",
       "        vertical-align: middle;\n",
       "    }\n",
       "\n",
       "    .dataframe tbody tr th {\n",
       "        vertical-align: top;\n",
       "    }\n",
       "\n",
       "    .dataframe thead th {\n",
       "        text-align: right;\n",
       "    }\n",
       "</style>\n",
       "<table border=\"1\" class=\"dataframe\">\n",
       "  <thead>\n",
       "    <tr style=\"text-align: right;\">\n",
       "      <th></th>\n",
       "      <th>0</th>\n",
       "      <th>1</th>\n",
       "      <th>2</th>\n",
       "      <th>3</th>\n",
       "    </tr>\n",
       "  </thead>\n",
       "  <tbody>\n",
       "    <tr>\n",
       "      <th>0</th>\n",
       "      <td>9</td>\n",
       "      <td>4</td>\n",
       "      <td>8</td>\n",
       "      <td>8</td>\n",
       "    </tr>\n",
       "    <tr>\n",
       "      <th>1</th>\n",
       "      <td>9</td>\n",
       "      <td>4</td>\n",
       "      <td>9</td>\n",
       "      <td>6</td>\n",
       "    </tr>\n",
       "    <tr>\n",
       "      <th>2</th>\n",
       "      <td>7</td>\n",
       "      <td>6</td>\n",
       "      <td>5</td>\n",
       "      <td>8</td>\n",
       "    </tr>\n",
       "    <tr>\n",
       "      <th>3</th>\n",
       "      <td>5</td>\n",
       "      <td>8</td>\n",
       "      <td>6</td>\n",
       "      <td>7</td>\n",
       "    </tr>\n",
       "    <tr>\n",
       "      <th>4</th>\n",
       "      <td>9</td>\n",
       "      <td>9</td>\n",
       "      <td>4</td>\n",
       "      <td>4</td>\n",
       "    </tr>\n",
       "    <tr>\n",
       "      <th>5</th>\n",
       "      <td>6</td>\n",
       "      <td>8</td>\n",
       "      <td>8</td>\n",
       "      <td>8</td>\n",
       "    </tr>\n",
       "    <tr>\n",
       "      <th>6</th>\n",
       "      <td>6</td>\n",
       "      <td>7</td>\n",
       "      <td>5</td>\n",
       "      <td>6</td>\n",
       "    </tr>\n",
       "    <tr>\n",
       "      <th>7</th>\n",
       "      <td>6</td>\n",
       "      <td>4</td>\n",
       "      <td>6</td>\n",
       "      <td>9</td>\n",
       "    </tr>\n",
       "    <tr>\n",
       "      <th>8</th>\n",
       "      <td>7</td>\n",
       "      <td>9</td>\n",
       "      <td>6</td>\n",
       "      <td>5</td>\n",
       "    </tr>\n",
       "    <tr>\n",
       "      <th>9</th>\n",
       "      <td>6</td>\n",
       "      <td>6</td>\n",
       "      <td>8</td>\n",
       "      <td>5</td>\n",
       "    </tr>\n",
       "  </tbody>\n",
       "</table>\n",
       "</div>"
      ],
      "text/plain": [
       "   0  1  2  3\n",
       "0  9  4  8  8\n",
       "1  9  4  9  6\n",
       "2  7  6  5  8\n",
       "3  5  8  6  7\n",
       "4  9  9  4  4\n",
       "5  6  8  8  8\n",
       "6  6  7  5  6\n",
       "7  6  4  6  9\n",
       "8  7  9  6  5\n",
       "9  6  6  8  5"
      ]
     },
     "execution_count": 833,
     "metadata": {},
     "output_type": "execute_result"
    }
   ],
   "source": [
    "df2 = pd.DataFrame(np.random.randint(4,10,size=(10,4)))\n",
    "df2"
   ]
  },
  {
   "cell_type": "code",
   "execution_count": 837,
   "id": "312906d4-12fb-43bc-ad05-7bd5a74c0c0a",
   "metadata": {},
   "outputs": [
    {
     "data": {
      "text/html": [
       "<div>\n",
       "<style scoped>\n",
       "    .dataframe tbody tr th:only-of-type {\n",
       "        vertical-align: middle;\n",
       "    }\n",
       "\n",
       "    .dataframe tbody tr th {\n",
       "        vertical-align: top;\n",
       "    }\n",
       "\n",
       "    .dataframe thead th {\n",
       "        text-align: right;\n",
       "    }\n",
       "</style>\n",
       "<table border=\"1\" class=\"dataframe\">\n",
       "  <thead>\n",
       "    <tr style=\"text-align: right;\">\n",
       "      <th></th>\n",
       "      <th>0</th>\n",
       "      <th>1</th>\n",
       "      <th>2</th>\n",
       "      <th>3</th>\n",
       "    </tr>\n",
       "  </thead>\n",
       "  <tbody>\n",
       "    <tr>\n",
       "      <th>0</th>\n",
       "      <td>0.212671</td>\n",
       "      <td>1.609676</td>\n",
       "      <td>1.078607</td>\n",
       "      <td>0.737187</td>\n",
       "    </tr>\n",
       "    <tr>\n",
       "      <th>1</th>\n",
       "      <td>-0.098330</td>\n",
       "      <td>-1.500798</td>\n",
       "      <td>2.503407</td>\n",
       "      <td>-0.984877</td>\n",
       "    </tr>\n",
       "    <tr>\n",
       "      <th>2</th>\n",
       "      <td>0.118983</td>\n",
       "      <td>0.575819</td>\n",
       "      <td>0.613557</td>\n",
       "      <td>-1.923207</td>\n",
       "    </tr>\n",
       "    <tr>\n",
       "      <th>3</th>\n",
       "      <td>0.349525</td>\n",
       "      <td>1.602295</td>\n",
       "      <td>1.128398</td>\n",
       "      <td>0.362372</td>\n",
       "    </tr>\n",
       "    <tr>\n",
       "      <th>4</th>\n",
       "      <td>1.508365</td>\n",
       "      <td>1.449759</td>\n",
       "      <td>1.457351</td>\n",
       "      <td>0.670466</td>\n",
       "    </tr>\n",
       "    <tr>\n",
       "      <th>5</th>\n",
       "      <td>0.239841</td>\n",
       "      <td>-0.709651</td>\n",
       "      <td>1.153606</td>\n",
       "      <td>0.669778</td>\n",
       "    </tr>\n",
       "    <tr>\n",
       "      <th>6</th>\n",
       "      <td>1.303057</td>\n",
       "      <td>-0.493099</td>\n",
       "      <td>0.858372</td>\n",
       "      <td>1.242459</td>\n",
       "    </tr>\n",
       "    <tr>\n",
       "      <th>7</th>\n",
       "      <td>1.093599</td>\n",
       "      <td>0.734206</td>\n",
       "      <td>-0.119288</td>\n",
       "      <td>-1.215364</td>\n",
       "    </tr>\n",
       "    <tr>\n",
       "      <th>8</th>\n",
       "      <td>-0.399347</td>\n",
       "      <td>0.063485</td>\n",
       "      <td>-0.087460</td>\n",
       "      <td>2.591038</td>\n",
       "    </tr>\n",
       "    <tr>\n",
       "      <th>9</th>\n",
       "      <td>0.223431</td>\n",
       "      <td>1.565339</td>\n",
       "      <td>0.889591</td>\n",
       "      <td>-0.552447</td>\n",
       "    </tr>\n",
       "    <tr>\n",
       "      <th>0</th>\n",
       "      <td>9.000000</td>\n",
       "      <td>4.000000</td>\n",
       "      <td>8.000000</td>\n",
       "      <td>8.000000</td>\n",
       "    </tr>\n",
       "    <tr>\n",
       "      <th>1</th>\n",
       "      <td>9.000000</td>\n",
       "      <td>4.000000</td>\n",
       "      <td>9.000000</td>\n",
       "      <td>6.000000</td>\n",
       "    </tr>\n",
       "    <tr>\n",
       "      <th>2</th>\n",
       "      <td>7.000000</td>\n",
       "      <td>6.000000</td>\n",
       "      <td>5.000000</td>\n",
       "      <td>8.000000</td>\n",
       "    </tr>\n",
       "    <tr>\n",
       "      <th>3</th>\n",
       "      <td>5.000000</td>\n",
       "      <td>8.000000</td>\n",
       "      <td>6.000000</td>\n",
       "      <td>7.000000</td>\n",
       "    </tr>\n",
       "    <tr>\n",
       "      <th>4</th>\n",
       "      <td>9.000000</td>\n",
       "      <td>9.000000</td>\n",
       "      <td>4.000000</td>\n",
       "      <td>4.000000</td>\n",
       "    </tr>\n",
       "    <tr>\n",
       "      <th>5</th>\n",
       "      <td>6.000000</td>\n",
       "      <td>8.000000</td>\n",
       "      <td>8.000000</td>\n",
       "      <td>8.000000</td>\n",
       "    </tr>\n",
       "    <tr>\n",
       "      <th>6</th>\n",
       "      <td>6.000000</td>\n",
       "      <td>7.000000</td>\n",
       "      <td>5.000000</td>\n",
       "      <td>6.000000</td>\n",
       "    </tr>\n",
       "    <tr>\n",
       "      <th>7</th>\n",
       "      <td>6.000000</td>\n",
       "      <td>4.000000</td>\n",
       "      <td>6.000000</td>\n",
       "      <td>9.000000</td>\n",
       "    </tr>\n",
       "    <tr>\n",
       "      <th>8</th>\n",
       "      <td>7.000000</td>\n",
       "      <td>9.000000</td>\n",
       "      <td>6.000000</td>\n",
       "      <td>5.000000</td>\n",
       "    </tr>\n",
       "    <tr>\n",
       "      <th>9</th>\n",
       "      <td>6.000000</td>\n",
       "      <td>6.000000</td>\n",
       "      <td>8.000000</td>\n",
       "      <td>5.000000</td>\n",
       "    </tr>\n",
       "  </tbody>\n",
       "</table>\n",
       "</div>"
      ],
      "text/plain": [
       "          0         1         2         3\n",
       "0  0.212671  1.609676  1.078607  0.737187\n",
       "1 -0.098330 -1.500798  2.503407 -0.984877\n",
       "2  0.118983  0.575819  0.613557 -1.923207\n",
       "3  0.349525  1.602295  1.128398  0.362372\n",
       "4  1.508365  1.449759  1.457351  0.670466\n",
       "5  0.239841 -0.709651  1.153606  0.669778\n",
       "6  1.303057 -0.493099  0.858372  1.242459\n",
       "7  1.093599  0.734206 -0.119288 -1.215364\n",
       "8 -0.399347  0.063485 -0.087460  2.591038\n",
       "9  0.223431  1.565339  0.889591 -0.552447\n",
       "0  9.000000  4.000000  8.000000  8.000000\n",
       "1  9.000000  4.000000  9.000000  6.000000\n",
       "2  7.000000  6.000000  5.000000  8.000000\n",
       "3  5.000000  8.000000  6.000000  7.000000\n",
       "4  9.000000  9.000000  4.000000  4.000000\n",
       "5  6.000000  8.000000  8.000000  8.000000\n",
       "6  6.000000  7.000000  5.000000  6.000000\n",
       "7  6.000000  4.000000  6.000000  9.000000\n",
       "8  7.000000  9.000000  6.000000  5.000000\n",
       "9  6.000000  6.000000  8.000000  5.000000"
      ]
     },
     "execution_count": 837,
     "metadata": {},
     "output_type": "execute_result"
    }
   ],
   "source": [
    "pd.concat([df,df2])"
   ]
  },
  {
   "cell_type": "code",
   "execution_count": 885,
   "id": "cfa10ba1-05df-4173-89a2-402d911d5b9f",
   "metadata": {},
   "outputs": [
    {
     "data": {
      "text/html": [
       "<div>\n",
       "<style scoped>\n",
       "    .dataframe tbody tr th:only-of-type {\n",
       "        vertical-align: middle;\n",
       "    }\n",
       "\n",
       "    .dataframe tbody tr th {\n",
       "        vertical-align: top;\n",
       "    }\n",
       "\n",
       "    .dataframe thead th {\n",
       "        text-align: right;\n",
       "    }\n",
       "</style>\n",
       "<table border=\"1\" class=\"dataframe\">\n",
       "  <thead>\n",
       "    <tr style=\"text-align: right;\">\n",
       "      <th></th>\n",
       "      <th>key</th>\n",
       "      <th>lval</th>\n",
       "      <th>rval</th>\n",
       "    </tr>\n",
       "  </thead>\n",
       "  <tbody>\n",
       "    <tr>\n",
       "      <th>0</th>\n",
       "      <td>foo</td>\n",
       "      <td>1</td>\n",
       "      <td>4</td>\n",
       "    </tr>\n",
       "    <tr>\n",
       "      <th>1</th>\n",
       "      <td>bar</td>\n",
       "      <td>2</td>\n",
       "      <td>5</td>\n",
       "    </tr>\n",
       "  </tbody>\n",
       "</table>\n",
       "</div>"
      ],
      "text/plain": [
       "   key  lval  rval\n",
       "0  foo     1     4\n",
       "1  bar     2     5"
      ]
     },
     "execution_count": 885,
     "metadata": {},
     "output_type": "execute_result"
    }
   ],
   "source": [
    "left = pd.DataFrame({\"key\": [\"foo\",\"bar\"],\"lval\":[1,2]})\n",
    "\n",
    "right = pd.DataFrame({\"key\": [\"foo\",\"bar\"],\"rval\": [4,5]})\n",
    "\n",
    "pd.merge(left,right,on=\"key\")"
   ]
  },
  {
   "cell_type": "code",
   "execution_count": 883,
   "id": "a7c47c8e-e9cb-48ac-b2f0-a39d368d64b8",
   "metadata": {},
   "outputs": [
    {
     "data": {
      "text/html": [
       "<div>\n",
       "<style scoped>\n",
       "    .dataframe tbody tr th:only-of-type {\n",
       "        vertical-align: middle;\n",
       "    }\n",
       "\n",
       "    .dataframe tbody tr th {\n",
       "        vertical-align: top;\n",
       "    }\n",
       "\n",
       "    .dataframe thead th {\n",
       "        text-align: right;\n",
       "    }\n",
       "</style>\n",
       "<table border=\"1\" class=\"dataframe\">\n",
       "  <thead>\n",
       "    <tr style=\"text-align: right;\">\n",
       "      <th></th>\n",
       "      <th>key</th>\n",
       "      <th>lval</th>\n",
       "      <th>rval</th>\n",
       "    </tr>\n",
       "  </thead>\n",
       "  <tbody>\n",
       "    <tr>\n",
       "      <th>0</th>\n",
       "      <td>foo</td>\n",
       "      <td>1</td>\n",
       "      <td>4</td>\n",
       "    </tr>\n",
       "    <tr>\n",
       "      <th>1</th>\n",
       "      <td>foo</td>\n",
       "      <td>1</td>\n",
       "      <td>5</td>\n",
       "    </tr>\n",
       "    <tr>\n",
       "      <th>2</th>\n",
       "      <td>foo</td>\n",
       "      <td>2</td>\n",
       "      <td>4</td>\n",
       "    </tr>\n",
       "    <tr>\n",
       "      <th>3</th>\n",
       "      <td>foo</td>\n",
       "      <td>2</td>\n",
       "      <td>5</td>\n",
       "    </tr>\n",
       "  </tbody>\n",
       "</table>\n",
       "</div>"
      ],
      "text/plain": [
       "   key  lval  rval\n",
       "0  foo     1     4\n",
       "1  foo     1     5\n",
       "2  foo     2     4\n",
       "3  foo     2     5"
      ]
     },
     "execution_count": 883,
     "metadata": {},
     "output_type": "execute_result"
    }
   ],
   "source": [
    "left = pd.DataFrame({\"key\": [\"foo\",\"foo\"],\"lval\":[1,2]})\n",
    "\n",
    "right = pd.DataFrame({\"key\": [\"foo\",\"foo\"],\"rval\": [4,5]})\n",
    "\n",
    "pd.merge(left,right,on=\"key\")"
   ]
  },
  {
   "cell_type": "markdown",
   "id": "406591b3-d681-43bb-b26f-a981f9d82e91",
   "metadata": {},
   "source": [
    "# Matplotlib"
   ]
  },
  {
   "cell_type": "code",
   "execution_count": 10,
   "id": "9f8493cf-ce78-4926-a7af-a6361fe34b3b",
   "metadata": {},
   "outputs": [],
   "source": [
    "import matplotlib.pyplot as plt"
   ]
  },
  {
   "cell_type": "code",
   "execution_count": 18,
   "id": "9fa401be-39cb-4a2a-8739-b337a2bea514",
   "metadata": {},
   "outputs": [
    {
     "data": {
      "image/png": "[encoded data removed]",
      "text/plain": [
       "<Figure size 640x480 with 1 Axes>"
      ]
     },
     "metadata": {},
     "output_type": "display_data"
    }
   ],
   "source": [
    "fig,ax = plt.subplots()\n",
    "ax.plot([1,2,3,5],[10,30,94,32])\n",
    "plt.show()"
   ]
  },
  {
   "cell_type": "code",
   "execution_count": 62,
   "id": "83e16dbc-0d07-4b81-8385-b7a8de5e9163",
   "metadata": {},
   "outputs": [
    {
     "data": {
      "text/plain": [
       "<Figure size 640x480 with 0 Axes>"
      ]
     },
     "metadata": {},
     "output_type": "display_data"
    },
    {
     "data": {
      "image/png": "[encoded data removed]",
      "text/plain": [
       "<Figure size 640x480 with 1 Axes>"
      ]
     },
     "metadata": {},
     "output_type": "display_data"
    },
    {
     "data": {
      "image/png": "[encoded data removed]",
      "text/plain": [
       "<Figure size 640x480 with 4 Axes>"
      ]
     },
     "metadata": {},
     "output_type": "display_data"
    },
    {
     "data": {
      "image/png": "[encoded data removed]",
      "text/plain": [
       "<Figure size 640x480 with 3 Axes>"
      ]
     },
     "metadata": {},
     "output_type": "display_data"
    }
   ],
   "source": [
    "fig = plt.figure()\n",
    "fig,ax = plt.subplots()\n",
    "fig,axs = plt.subplots(2,2)\n",
    "fig, axs = plt.subplot_mosaic([['left','right_top'],['left','right_bottom']])"
   ]
  },
  {
   "cell_type": "code",
   "execution_count": 66,
   "id": "5d1a8168-af6e-4b71-a3f6-b658bb95a6a0",
   "metadata": {},
   "outputs": [
    {
     "data": {
      "text/plain": [
       "array([[1, 2],\n",
       "       [3, 4]])"
      ]
     },
     "execution_count": 66,
     "metadata": {},
     "output_type": "execute_result"
    }
   ],
   "source": [
    "b = np.matrix([[1,2],[3,4]])\n",
    "b_asarray = np.asarray(b)\n",
    "b_asarray"
   ]
  },
  {
   "cell_type": "code",
   "execution_count": 78,
   "id": "45fce0a2-4074-4ce0-97ea-9f3178811265",
   "metadata": {},
   "outputs": [
    {
     "data": {
      "text/plain": [
       "Text(0, 0.5, 'entry b')"
      ]
     },
     "execution_count": 78,
     "metadata": {},
     "output_type": "execute_result"
    },
    {
     "data": {
      "image/png": "[encoded data removed]",
      "text/plain": [
       "<Figure size 500x270 with 1 Axes>"
      ]
     },
     "metadata": {},
     "output_type": "display_data"
    }
   ],
   "source": [
    "np.random.seed(19680801)\n",
    "data = {\"a\":np.arange(50),\n",
    "        \"c\":np.random.randint(0,50,50),\n",
    "        \"d\":np.random.randn(50)}\n",
    "data['b'] = data['a'] + 10 * np.random.randn(50)\n",
    "data['d'] = np.abs(data['d'])*100\n",
    "\n",
    "fig,ax = plt.subplots(figsize=(5,2.7),layout='constrained')\n",
    "ax.scatter('a','b',c='c',s='d',data=data)\n",
    "ax.set_xlabel('entry a')\n",
    "ax.set_ylabel('entry b')"
   ]
  },
  {
   "cell_type": "markdown",
   "id": "bc757bbb-33b8-49f4-8888-7ecca1da5f6a",
   "metadata": {},
   "source": [
    "### OO Style"
   ]
  },
  {
   "cell_type": "code",
   "execution_count": 126,
   "id": "f6afb425-cef2-497d-a2d8-c98b6b77bd37",
   "metadata": {},
   "outputs": [
    {
     "data": {
      "text/plain": [
       "<matplotlib.legend.Legend at 0x1f18670d9d0>"
      ]
     },
     "execution_count": 126,
     "metadata": {},
     "output_type": "execute_result"
    },
    {
     "data": {
      "image/png": "[encoded data removed]",
      "text/plain": [
       "<Figure size 500x270 with 1 Axes>"
      ]
     },
     "metadata": {},
     "output_type": "display_data"
    }
   ],
   "source": [
    "x = np.linspace(0,2,100)\n",
    "\n",
    "fig ,ax = plt.subplots(figsize=(5,2.7),layout='constrained')\n",
    "ax.plot(x,x,label=\"linear\")\n",
    "ax.plot(x,x**2,label='quadratic')\n",
    "ax.plot(x,x**3,label='cubic')\n",
    "ax.set_xlabel(\"x label\")\n",
    "ax.set_ylabel(\"y label\")\n",
    "ax.set_title(\"Simple Plot\")\n",
    "ax.legend()"
   ]
  },
  {
   "cell_type": "markdown",
   "id": "c8a6e728-fb8f-4007-8e40-961aa63896f5",
   "metadata": {},
   "source": [
    "### Pyplot-Style"
   ]
  },
  {
   "cell_type": "code",
   "execution_count": 137,
   "id": "39867720-3c32-4d66-a00c-b22e5c7a4b96",
   "metadata": {},
   "outputs": [
    {
     "data": {
      "text/plain": [
       "<matplotlib.legend.Legend at 0x1f185f4b020>"
      ]
     },
     "execution_count": 137,
     "metadata": {},
     "output_type": "execute_result"
    },
    {
     "data": {
      "image/png": "[encoded data removed]",
      "text/plain": [
       "<Figure size 500x270 with 1 Axes>"
      ]
     },
     "metadata": {},
     "output_type": "display_data"
    }
   ],
   "source": [
    "x = np.linspace(0,2,100)\n",
    "\n",
    "plt.figure(figsize=(5,2.7),layout='constrained')\n",
    "plt.plot(x,x,label='linear')\n",
    "plt.plot(x,x**2,label='quadratic')\n",
    "plt.plot(x,x**3,label='cubic')\n",
    "plt.xlabel('x label')\n",
    "plt.ylabel('y label')\n",
    "plt.title('Simple Plot')\n",
    "plt.legend()"
   ]
  },
  {
   "cell_type": "code",
   "execution_count": 128,
   "id": "8cfb33b4-ad5e-4494-8ae6-c1afd6e4140a",
   "metadata": {},
   "outputs": [
    {
     "data": {
      "text/plain": [
       "array([0.        , 0.02020202, 0.04040404, 0.06060606, 0.08080808,\n",
       "       0.1010101 , 0.12121212, 0.14141414, 0.16161616, 0.18181818,\n",
       "       0.2020202 , 0.22222222, 0.24242424, 0.26262626, 0.28282828,\n",
       "       0.3030303 , 0.32323232, 0.34343434, 0.36363636, 0.38383838,\n",
       "       0.4040404 , 0.42424242, 0.44444444, 0.46464646, 0.48484848,\n",
       "       0.50505051, 0.52525253, 0.54545455, 0.56565657, 0.58585859,\n",
       "       0.60606061, 0.62626263, 0.64646465, 0.66666667, 0.68686869,\n",
       "       0.70707071, 0.72727273, 0.74747475, 0.76767677, 0.78787879,\n",
       "       0.80808081, 0.82828283, 0.84848485, 0.86868687, 0.88888889,\n",
       "       0.90909091, 0.92929293, 0.94949495, 0.96969697, 0.98989899,\n",
       "       1.01010101, 1.03030303, 1.05050505, 1.07070707, 1.09090909,\n",
       "       1.11111111, 1.13131313, 1.15151515, 1.17171717, 1.19191919,\n",
       "       1.21212121, 1.23232323, 1.25252525, 1.27272727, 1.29292929,\n",
       "       1.31313131, 1.33333333, 1.35353535, 1.37373737, 1.39393939,\n",
       "       1.41414141, 1.43434343, 1.45454545, 1.47474747, 1.49494949,\n",
       "       1.51515152, 1.53535354, 1.55555556, 1.57575758, 1.5959596 ,\n",
       "       1.61616162, 1.63636364, 1.65656566, 1.67676768, 1.6969697 ,\n",
       "       1.71717172, 1.73737374, 1.75757576, 1.77777778, 1.7979798 ,\n",
       "       1.81818182, 1.83838384, 1.85858586, 1.87878788, 1.8989899 ,\n",
       "       1.91919192, 1.93939394, 1.95959596, 1.97979798, 2.        ])"
      ]
     },
     "execution_count": 128,
     "metadata": {},
     "output_type": "execute_result"
    }
   ],
   "source": [
    "x"
   ]
  },
  {
   "cell_type": "code",
   "execution_count": 108,
   "id": "d3ce3994-c839-4cc7-a20c-7ad311b98186",
   "metadata": {},
   "outputs": [
    {
     "data": {
      "text/plain": [
       "[30, 1, 2, 3, 4, 7, 5, 6]"
      ]
     },
     "execution_count": 108,
     "metadata": {},
     "output_type": "execute_result"
    }
   ],
   "source": [
    "list = [30,1,2,3,4,4,7,5,5,5,5,6,5,3,2,1,4,5]\n",
    "val=[]\n",
    "\n",
    "for i in list:\n",
    "    if i not in val:\n",
    "        val.append(i)\n",
    "\n",
    "val"
   ]
  },
  {
   "cell_type": "markdown",
   "id": "f961503f-209c-4f19-a371-90d16939ee18",
   "metadata": {},
   "source": [
    "# Sets"
   ]
  },
  {
   "cell_type": "code",
   "execution_count": 314,
   "id": "5e00de33-8507-4c2a-8f02-a60523cdba9b",
   "metadata": {},
   "outputs": [
    {
     "name": "stdout",
     "output_type": "stream",
     "text": [
      "[1, 2, 3, 4, 5, 66, 45, 34, 35, 42, 2, 4, 6, 3, 66]\n",
      "{1, 2, 3, 4, 5, 66, 34, 35, 6, 42, 45}\n"
     ]
    }
   ],
   "source": [
    "lst = [1,2,3,4,5,66,45,34,35,42,2,4,6,3,66]\n",
    "print(lst)\n",
    "st = set(lst)\n",
    "print(st)\n"
   ]
  },
  {
   "cell_type": "code",
   "execution_count": 304,
   "id": "b7d895c6-c9dc-40e4-9065-015c104477af",
   "metadata": {},
   "outputs": [],
   "source": [
    "st.add(\"hi\")\n",
    "st2 = {\"pineappe\" , \"mango\", 'papaya'}"
   ]
  },
  {
   "cell_type": "code",
   "execution_count": 342,
   "id": "20c30007-5605-44e4-bbb5-7e1815a6a892",
   "metadata": {},
   "outputs": [
    {
     "data": {
      "text/plain": [
       "{1, 2, 3, 30, 34, 35, 4, 42, 45, 5, 6, 66, 7, 'papaya', 'pineappe'}"
      ]
     },
     "execution_count": 342,
     "metadata": {},
     "output_type": "execute_result"
    }
   ],
   "source": [
    "\n",
    "st.update(st2)\n",
    "st.update(val)\n",
    "st.remove(\"mango\")\n",
    "st"
   ]
  },
  {
   "cell_type": "code",
   "execution_count": 346,
   "id": "c243b929-794d-4ad6-bb7b-f43fc36ba235",
   "metadata": {},
   "outputs": [
    {
     "data": {
      "text/plain": [
       "{1, 2, 3, 30, 34, 35, 4, 42, 45, 5, 6, 66, 7, 'papaya', 'pineappe'}"
      ]
     },
     "execution_count": 346,
     "metadata": {},
     "output_type": "execute_result"
    }
   ],
   "source": [
    "st.discard(\"jsd\")\n",
    "st"
   ]
  },
  {
   "cell_type": "code",
   "execution_count": 354,
   "id": "c6cc1553-bb4d-4dae-9645-a389e844e7b7",
   "metadata": {},
   "outputs": [
    {
     "name": "stdout",
     "output_type": "stream",
     "text": [
      "3\n"
     ]
    }
   ],
   "source": [
    "print(st.pop())"
   ]
  },
  {
   "cell_type": "code",
   "execution_count": 356,
   "id": "04811920-b747-4f21-a138-6688b5207ea1",
   "metadata": {},
   "outputs": [
    {
     "data": {
      "text/plain": [
       "{30, 34, 35, 4, 42, 45, 5, 6, 66, 7, 'papaya', 'pineappe'}"
      ]
     },
     "execution_count": 356,
     "metadata": {},
     "output_type": "execute_result"
    }
   ],
   "source": [
    "st"
   ]
  },
  {
   "cell_type": "code",
   "execution_count": 360,
   "id": "df041972-04a6-4e10-8e1c-c9363d8bbd96",
   "metadata": {},
   "outputs": [
    {
     "data": {
      "text/plain": [
       "set()"
      ]
     },
     "execution_count": 360,
     "metadata": {},
     "output_type": "execute_result"
    }
   ],
   "source": [
    "st2.clear()\n",
    "st2"
   ]
  },
  {
   "cell_type": "code",
   "execution_count": 364,
   "id": "328f89c8-95e3-411d-8751-3f313c30a068",
   "metadata": {},
   "outputs": [
    {
     "ename": "NameError",
     "evalue": "name 'st' is not defined",
     "output_type": "error",
     "traceback": [
      "\u001b[1;31m---------------------------------------------------------------------------\u001b[0m",
      "\u001b[1;31mNameError\u001b[0m                                 Traceback (most recent call last)",
      "Cell \u001b[1;32mIn[364], line 2\u001b[0m\n\u001b[0;32m      1\u001b[0m \u001b[38;5;28;01mdel\u001b[39;00m st\n\u001b[1;32m----> 2\u001b[0m st\n",
      "\u001b[1;31mNameError\u001b[0m: name 'st' is not defined"
     ]
    }
   ],
   "source": [
    "del st\n",
    "st"
   ]
  },
  {
   "cell_type": "markdown",
   "id": "72a410dd-22b4-447f-a8a1-7a54c4fc08a5",
   "metadata": {},
   "source": [
    "# Dict"
   ]
  },
  {
   "cell_type": "code",
   "execution_count": 375,
   "id": "01f2c432-8a53-4566-953f-4d9b9c740a5c",
   "metadata": {},
   "outputs": [
    {
     "data": {
      "text/plain": [
       "{'name': 'Anantha', 'age': 21, 'country': 'India'}"
      ]
     },
     "execution_count": 375,
     "metadata": {},
     "output_type": "execute_result"
    }
   ],
   "source": [
    "mydict = dict(name=\"Anantha\",age = 21, country='India')\n",
    "mydict"
   ]
  },
  {
   "cell_type": "code",
   "execution_count": 441,
   "id": "ad3b01de-2a4e-4183-93be-03fc28478f32",
   "metadata": {},
   "outputs": [],
   "source": [
    "v= [i for i in mydict.values()]\n",
    "i = [j for j in mydict]\n"
   ]
  },
  {
   "cell_type": "code",
   "execution_count": 415,
   "id": "e2016ce1-24b8-4347-9590-7f8ff591e134",
   "metadata": {},
   "outputs": [
    {
     "data": {
      "text/plain": [
       "{'Anantha': 'name', 21: 'age', 'India': 'country'}"
      ]
     },
     "execution_count": 415,
     "metadata": {},
     "output_type": "execute_result"
    }
   ],
   "source": [
    "mydict1 ={}\n",
    "\n",
    "for key in v:\n",
    "    for val in i:\n",
    "        mydict1[key]=val\n",
    "        i.remove(val)\n",
    "        break\n",
    "mydict1"
   ]
  },
  {
   "cell_type": "code",
   "execution_count": 445,
   "id": "49fd4be8-ec1d-42ed-b262-0d13c8a824e4",
   "metadata": {},
   "outputs": [
    {
     "data": {
      "text/plain": [
       "{'Anantha': 'name', 21: 'age', 'India': 'country'}"
      ]
     },
     "execution_count": 445,
     "metadata": {},
     "output_type": "execute_result"
    }
   ],
   "source": [
    "mydict2={v[j]:i[j] for j in range(len(i))}\n",
    "mydict2\n"
   ]
  },
  {
   "cell_type": "code",
   "execution_count": 469,
   "id": "d53b537a-656b-473e-a193-5f2ad0edd203",
   "metadata": {},
   "outputs": [
    {
     "data": {
      "text/plain": [
       "dict_items([('name', 'Anantha'), ('age', 21), ('country', 'India')])"
      ]
     },
     "execution_count": 469,
     "metadata": {},
     "output_type": "execute_result"
    }
   ],
   "source": [
    "x = mydict.items()\n",
    "x"
   ]
  },
  {
   "cell_type": "code",
   "execution_count": 477,
   "id": "09b70ce0-e65b-48e0-82f2-bbd40179d225",
   "metadata": {},
   "outputs": [
    {
     "ename": "KeyError",
     "evalue": "21",
     "output_type": "error",
     "traceback": [
      "\u001b[1;31m---------------------------------------------------------------------------\u001b[0m",
      "\u001b[1;31mKeyError\u001b[0m                                  Traceback (most recent call last)",
      "Cell \u001b[1;32mIn[477], line 1\u001b[0m\n\u001b[1;32m----> 1\u001b[0m mydict2\u001b[38;5;241m.\u001b[39mpop(\u001b[38;5;241m21\u001b[39m)\n\u001b[0;32m      2\u001b[0m mydict2\n",
      "\u001b[1;31mKeyError\u001b[0m: 21"
     ]
    }
   ],
   "source": [
    "mydict2.pop(21)\n",
    "mydict2"
   ]
  },
  {
   "cell_type": "code",
   "execution_count": 487,
   "id": "34a0475e-606a-4440-a597-c13c750ca4e5",
   "metadata": {},
   "outputs": [
    {
     "ename": "NameError",
     "evalue": "name 'mydict2' is not defined",
     "output_type": "error",
     "traceback": [
      "\u001b[1;31m---------------------------------------------------------------------------\u001b[0m",
      "\u001b[1;31mNameError\u001b[0m                                 Traceback (most recent call last)",
      "Cell \u001b[1;32mIn[487], line 3\u001b[0m\n\u001b[0;32m      1\u001b[0m mydict2\u001b[38;5;241m.\u001b[39mclear()\n\u001b[0;32m      2\u001b[0m \u001b[38;5;28;01mdel\u001b[39;00m mydict2\n\u001b[1;32m----> 3\u001b[0m mydict2\n",
      "\u001b[1;31mNameError\u001b[0m: name 'mydict2' is not defined"
     ]
    }
   ],
   "source": [
    "mydict2.clear()\n",
    "del mydict2"
   ]
  },
  {
   "cell_type": "markdown",
   "id": "126c5dfd-06b9-419d-a4f5-241be418510b",
   "metadata": {},
   "source": [
    "# Tuple"
   ]
  },
  {
   "cell_type": "code",
   "execution_count": 511,
   "id": "b05a47aa-665d-4312-8b68-69c41f798b7f",
   "metadata": {},
   "outputs": [
    {
     "ename": "ValueError",
     "evalue": "tuple.index(x): x not in tuple",
     "output_type": "error",
     "traceback": [
      "\u001b[1;31m---------------------------------------------------------------------------\u001b[0m",
      "\u001b[1;31mValueError\u001b[0m                                Traceback (most recent call last)",
      "Cell \u001b[1;32mIn[511], line 2\u001b[0m\n\u001b[0;32m      1\u001b[0m mytuple \u001b[38;5;241m=\u001b[39m (\u001b[38;5;124m'\u001b[39m\u001b[38;5;124mAnanthu\u001b[39m\u001b[38;5;124m'\u001b[39m,\u001b[38;5;241m21\u001b[39m,\u001b[38;5;124m'\u001b[39m\u001b[38;5;124mindia\u001b[39m\u001b[38;5;124m'\u001b[39m,\u001b[38;5;241m9037322474\u001b[39m,\u001b[38;5;241m21\u001b[39m)\n\u001b[1;32m----> 2\u001b[0m mytuple\u001b[38;5;241m.\u001b[39mindex(\u001b[38;5;241m823\u001b[39m)\n",
      "\u001b[1;31mValueError\u001b[0m: tuple.index(x): x not in tuple"
     ]
    }
   ],
   "source": [
    "mytuple = ('Ananthu',21,'india',9037322474,21)\n",
    "mytuple.index(823)"
   ]
  },
  {
   "cell_type": "code",
   "execution_count": 513,
   "id": "f77d5aed-ada0-4ef3-b4dc-daeb2f0523c8",
   "metadata": {},
   "outputs": [
    {
     "data": {
      "text/plain": [
       "0"
      ]
     },
     "execution_count": 513,
     "metadata": {},
     "output_type": "execute_result"
    }
   ],
   "source": [
    "mytuple.count(823)"
   ]
  },
  {
   "cell_type": "markdown",
   "id": "58a9741b-6d34-4f2c-b214-42772d8d3b84",
   "metadata": {},
   "source": [
    "# List"
   ]
  },
  {
   "cell_type": "code",
   "execution_count": 3,
   "id": "b940d2b9-bb89-466c-9ca9-5f032e98f615",
   "metadata": {},
   "outputs": [
    {
     "data": {
      "text/plain": [
       "list"
      ]
     },
     "execution_count": 3,
     "metadata": {},
     "output_type": "execute_result"
    }
   ],
   "source": [
    "mylist = list(('apple','banana','cherry'))\n",
    "type(mylist)"
   ]
  },
  {
   "cell_type": "code",
   "execution_count": 29,
   "id": "e48256a8-4851-4044-94d7-df0cc6b0b6a9",
   "metadata": {},
   "outputs": [
    {
     "data": {
      "text/plain": [
       "['apple', 'cherry']"
      ]
     },
     "execution_count": 29,
     "metadata": {},
     "output_type": "execute_result"
    }
   ],
   "source": []
  },
  {
   "cell_type": "code",
   "execution_count": 39,
   "id": "5decd6f5-fe11-40d9-aa91-fffb3ffaacf4",
   "metadata": {},
   "outputs": [
    {
     "name": "stdin",
     "output_type": "stream",
     "text": [
      "Enter the length of the array 3\n"
     ]
    },
    {
     "name": "stdout",
     "output_type": "stream",
     "text": [
      "Enter the values of array 1\n"
     ]
    },
    {
     "name": "stdin",
     "output_type": "stream",
     "text": [
      " 1\n",
      " 2\n",
      " 334\n",
      " 4\n",
      " 5\n",
      " 6\n",
      " 7\n",
      " 8\n",
      " 9\n"
     ]
    },
    {
     "name": "stdout",
     "output_type": "stream",
     "text": [
      "8\n"
     ]
    }
   ],
   "source": [
    "n = int(input(\"Enter the length of the array\"))\n",
    "\n",
    "arr1=[]\n",
    "arr2=[]\n",
    "\n",
    "print(\"Enter the values of array 1\")\n",
    "for i in range(n):\n",
    "    row = []\n",
    "    for j in range(n):\n",
    "        x = int(input())\n",
    "        row.append(x)\n",
    "    arr1.append(row)\n",
    "print(arr1[n-1][1])"
   ]
  },
  {
   "cell_type": "code",
   "execution_count": 51,
   "id": "5b9d92cd-abbc-4c68-8c2f-80be76245b80",
   "metadata": {},
   "outputs": [
    {
     "data": {
      "text/plain": [
       "'adikaht'"
      ]
     },
     "execution_count": 51,
     "metadata": {},
     "output_type": "execute_result"
    }
   ],
   "source": [
    "word = \"thakida\"\n",
    "\n",
    "reversed=''\n",
    "\n",
    "for i in range(len(word),0,-1):\n",
    "    reversed+=(word[i-1])\n",
    "\n",
    "\n",
    "reversed"
   ]
  },
  {
   "cell_type": "code",
   "execution_count": null,
   "id": "7892562c-aa4e-445f-a02f-35fd8ab31882",
   "metadata": {},
   "outputs": [],
   "source": [
    "with open(\"test.txt\",r) as file:\n",
    "    content = file.read()\n",
    "    print(content)"
   ]
  }
 ],
 "metadata": {
  "kernelspec": {
   "display_name": "Python 3 (ipykernel)",
   "language": "python",
   "name": "python3"
  },
  "language_info": {
   "codemirror_mode": {
    "name": "ipython",
    "version": 3
   },
   "file_extension": ".py",
   "mimetype": "text/x-python",
   "name": "python",
   "nbconvert_exporter": "python",
   "pygments_lexer": "ipython3",
   "version": "3.12.3"
  }
 },
 "nbformat": 4,
 "nbformat_minor": 5
}
